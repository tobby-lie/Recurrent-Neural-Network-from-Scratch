{
  "nbformat": 4,
  "nbformat_minor": 0,
  "metadata": {
    "kernelspec": {
      "name": "python3",
      "display_name": "Python 3"
    },
    "language_info": {
      "codemirror_mode": {
        "name": "ipython",
        "version": 3
      },
      "file_extension": ".py",
      "mimetype": "text/x-python",
      "name": "python",
      "nbconvert_exporter": "python",
      "pygments_lexer": "ipython3",
      "version": "3.7.4"
    },
    "colab": {
      "name": "Lie_5931_PA3.ipynb",
      "provenance": [],
      "collapsed_sections": [],
      "include_colab_link": true
    },
    "accelerator": "GPU"
  },
  "cells": [
    {
      "cell_type": "markdown",
      "metadata": {
        "id": "view-in-github",
        "colab_type": "text"
      },
      "source": [
        "<a href=\"https://colab.research.google.com/github/tobby-lie/Recurrent-Neural-Network-from-Scratch/blob/master/Lie_5931_PA3.ipynb\" target=\"_parent\"><img src=\"https://colab.research.google.com/assets/colab-badge.svg\" alt=\"Open In Colab\"/></a>"
      ]
    },
    {
      "cell_type": "code",
      "metadata": {
        "id": "Y2Ny7UiB1dZy",
        "colab_type": "code",
        "outputId": "984158c2-9d99-4f1a-d70f-44f2bc0aaa1f",
        "colab": {
          "base_uri": "https://localhost:8080/",
          "height": 122
        }
      },
      "source": [
        "from google.colab import drive\n",
        "drive.mount('/content/drive')"
      ],
      "execution_count": 2,
      "outputs": [
        {
          "output_type": "stream",
          "text": [
            "Go to this URL in a browser: https://accounts.google.com/o/oauth2/auth?client_id=947318989803-6bn6qk8qdgf4n4g3pfee6491hc0brc4i.apps.googleusercontent.com&redirect_uri=urn%3Aietf%3Awg%3Aoauth%3A2.0%3Aoob&scope=email%20https%3A%2F%2Fwww.googleapis.com%2Fauth%2Fdocs.test%20https%3A%2F%2Fwww.googleapis.com%2Fauth%2Fdrive%20https%3A%2F%2Fwww.googleapis.com%2Fauth%2Fdrive.photos.readonly%20https%3A%2F%2Fwww.googleapis.com%2Fauth%2Fpeopleapi.readonly&response_type=code\n",
            "\n",
            "Enter your authorization code:\n",
            "··········\n",
            "Mounted at /content/drive\n"
          ],
          "name": "stdout"
        }
      ]
    },
    {
      "cell_type": "code",
      "metadata": {
        "id": "16drKxE11Zae",
        "colab_type": "code",
        "outputId": "4dbe55ed-0dd2-4f5d-f1cc-a833d36228c0",
        "colab": {
          "base_uri": "https://localhost:8080/",
          "height": 105
        }
      },
      "source": [
        "import csv\n",
        "import itertools\n",
        "import operator\n",
        "import numpy as np\n",
        "import sys\n",
        "from datetime import datetime\n",
        "import matplotlib.pyplot as plt\n",
        "\n",
        "%cd /content/drive/My\\ Drive/5931_PA3\n",
        "%ls\n",
        "\n",
        "!pip3 install nltk"
      ],
      "execution_count": 3,
      "outputs": [
        {
          "output_type": "stream",
          "text": [
            "/content/drive/My Drive/5931_PA3\n",
            "Lie_5931_PA3.ipynb  SciFi_Three.txt\n",
            "Requirement already satisfied: nltk in /usr/local/lib/python3.6/dist-packages (3.2.5)\n",
            "Requirement already satisfied: six in /usr/local/lib/python3.6/dist-packages (from nltk) (1.12.0)\n"
          ],
          "name": "stdout"
        }
      ]
    },
    {
      "cell_type": "code",
      "metadata": {
        "id": "Kks5iR-u1Zag",
        "colab_type": "code",
        "outputId": "69c470e1-b945-4d76-ca06-a253ba5b7acd",
        "colab": {
          "base_uri": "https://localhost:8080/",
          "height": 309
        }
      },
      "source": [
        "import nltk\n",
        "import ssl\n",
        "\n",
        "try:\n",
        "    _create_unverified_https_context = ssl._create_unverified_context\n",
        "except AttributeError:\n",
        "    pass\n",
        "else:\n",
        "    ssl._create_default_https_context = _create_unverified_https_context\n",
        "\n",
        "nltk.download()"
      ],
      "execution_count": 8,
      "outputs": [
        {
          "output_type": "stream",
          "text": [
            "NLTK Downloader\n",
            "---------------------------------------------------------------------------\n",
            "    d) Download   l) List    u) Update   c) Config   h) Help   q) Quit\n",
            "---------------------------------------------------------------------------\n",
            "Downloader> d\n",
            "\n",
            "Download which package (l=list; x=cancel)?\n",
            "  Identifier> punkt\n",
            "    Downloading package punkt to /root/nltk_data...\n",
            "      Unzipping tokenizers/punkt.zip.\n",
            "\n",
            "---------------------------------------------------------------------------\n",
            "    d) Download   l) List    u) Update   c) Config   h) Help   q) Quit\n",
            "---------------------------------------------------------------------------\n",
            "Downloader> q\n"
          ],
          "name": "stdout"
        },
        {
          "output_type": "execute_result",
          "data": {
            "text/plain": [
              "True"
            ]
          },
          "metadata": {
            "tags": []
          },
          "execution_count": 8
        }
      ]
    },
    {
      "cell_type": "code",
      "metadata": {
        "id": "TvIB0djFIGGT",
        "colab_type": "code",
        "colab": {}
      },
      "source": [
        "import matplotlib.pyplot as plt\n",
        "\n",
        "def generate_loss_epoch_plt(losses):\n",
        "  ''' generates loss vs epoch plot based off of list of losses generted from training'''\n",
        "  x_plt = []  # holds x values\n",
        "  y_plt = []  # holds y values\n",
        "\n",
        "  epoch_ct = 0  # need epoch_ct to keep track of which epoch the loss belongs to\n",
        "  # for each loss add the epoch and appropriate loss from tuple to x and y\n",
        "  for loss in losses:\n",
        "    x_plt.append(epoch_ct)\n",
        "    y_plt.append(loss[1])\n",
        "    epoch_ct += 1\n",
        "\n",
        "  plt.plot(x_plt, y_plt)  # plot from x and y lists\n",
        "  plt.title('Loss vs. Epoch') # title \n",
        "  plt.ylabel('Loss') # y axis title\n",
        "  plt.xlabel('Epoch') # x axis title\n",
        "  plt.show() "
      ],
      "execution_count": 0,
      "outputs": []
    },
    {
      "cell_type": "code",
      "metadata": {
        "id": "fetT1SAv1Zai",
        "colab_type": "code",
        "colab": {}
      },
      "source": [
        "vocabulary_size = 8000\n",
        "unknown_token = \"UNKNOWN\"\n",
        "sentence_start_token = \"SENTENCE_START\"\n",
        "sentence_end_token = \"SENTENCE_END\"\n",
        "num_ascii_char = 256"
      ],
      "execution_count": 0,
      "outputs": []
    },
    {
      "cell_type": "markdown",
      "metadata": {
        "id": "mx8-yOxBNzPo",
        "colab_type": "text"
      },
      "source": [
        "### From file specified, from each paragraph, tokenize into sentences and add sentence_start_token and sentence_end_token into sentences. Get rid of the newline character and replace with a space and append to the sentence_list. Finally, report how many sentences there are."
      ]
    },
    {
      "cell_type": "code",
      "metadata": {
        "id": "vHcg71dF1Zam",
        "colab_type": "code",
        "outputId": "8795d2a7-b35a-4d34-a33c-390c8ed3aa0f",
        "colab": {
          "base_uri": "https://localhost:8080/",
          "height": 51
        }
      },
      "source": [
        "print(\"Reading .txt file...\")\n",
        "\n",
        "sentences = []\n",
        "sentence_list = []\n",
        "filename = \"SciFi_Three.txt\"\n",
        "with open(filename, \"r\") as f:\n",
        "    \n",
        "    # Split all paragraphs by two newline characters\n",
        "    all_content = f.read()\n",
        "    paragraphs = all_content.split(\"\\n\\n\")\n",
        "    \n",
        "    # For each paragraph, tokenize sentences and then place in sentence_list\n",
        "    for paragraph in paragraphs:\n",
        "\n",
        "        sentences = nltk.sent_tokenize(paragraph.lower())\n",
        "        \n",
        "        sentences = [\"%s %s %s\" % (sentence_start_token, x, sentence_end_token) for x in sentences]\n",
        "\n",
        "        for sentence in sentences:\n",
        "            sentence = sentence.replace(\"\\n\", \" \")\n",
        "            sentence_list.append(sentence)\n",
        "            \n",
        "print(\"Parsed %d sentences.\" % (len(sentence_list)))  # report how many sentences\n",
        "            "
      ],
      "execution_count": 11,
      "outputs": [
        {
          "output_type": "stream",
          "text": [
            "Reading .txt file...\n",
            "Parsed 25324 sentences.\n"
          ],
          "name": "stdout"
        }
      ]
    },
    {
      "cell_type": "code",
      "metadata": {
        "id": "Qdlm65Lu1Zao",
        "colab_type": "code",
        "outputId": "d8dc095b-0927-4a7d-e323-ea8b4e27befb",
        "colab": {
          "base_uri": "https://localhost:8080/",
          "height": 1000
        }
      },
      "source": [
        "# Display how the sentences 0-99 in sentence_list\n",
        "sentence_list[0:100]"
      ],
      "execution_count": 122,
      "outputs": [
        {
          "output_type": "execute_result",
          "data": {
            "text/plain": [
              "['SENTENCE_START the mysterious island SENTENCE_END',\n",
              " 'SENTENCE_START by jules verne SENTENCE_END',\n",
              " 'SENTENCE_START 1874 SENTENCE_END',\n",
              " 'SENTENCE_START  part 1--dropped from the clouds SENTENCE_END',\n",
              " 'SENTENCE_START chapter 1 SENTENCE_END',\n",
              " 'SENTENCE_START “are we rising again?” “no. SENTENCE_END',\n",
              " 'SENTENCE_START on the contrary.” “are we descending?”  “worse than that, captain! SENTENCE_END',\n",
              " 'SENTENCE_START we are falling!” “for heaven’s sake heave out the ballast!” “there! SENTENCE_END',\n",
              " 'SENTENCE_START the last sack is empty!” “does the balloon rise?”  “no!” “i hear a noise like the dashing of waves. SENTENCE_END',\n",
              " 'SENTENCE_START the sea is below the car! SENTENCE_END',\n",
              " 'SENTENCE_START it cannot be more than 500 feet from us!” “overboard with every weight! SENTENCE_END',\n",
              " 'SENTENCE_START ... everything!” SENTENCE_END',\n",
              " 'SENTENCE_START such were the loud and startling words which resounded through the air, above the vast watery desert of the pacific, about four o’clock in the evening of the 23rd of march, 1865. SENTENCE_END',\n",
              " 'SENTENCE_START few can possibly have forgotten the terrible storm from the northeast, in the middle of the equinox of that year. SENTENCE_END',\n",
              " 'SENTENCE_START the tempest raged without intermission from the 18th to the 26th of march. SENTENCE_END',\n",
              " 'SENTENCE_START its ravages were terrible in america, europe, and asia, covering a distance of eighteen hundred miles, and extending obliquely to the equator from the thirty-fifth north parallel to the fortieth south parallel. SENTENCE_END',\n",
              " 'SENTENCE_START towns were overthrown, forests uprooted, coasts devastated by the mountains of water which were precipitated on them, vessels cast on the shore, which the published accounts numbered by hundreds, whole districts leveled by waterspouts which destroyed everything they passed over, several thousand people crushed on land or drowned at sea; such were the traces of its fury, left by this devastating tempest. SENTENCE_END',\n",
              " 'SENTENCE_START it surpassed in disasters those which so frightfully ravaged havana and guadalupe, one on the 25th of october, 1810, the other on the 26th of july, 1825. SENTENCE_END',\n",
              " 'SENTENCE_START but while so many catastrophes were taking place on land and at sea, a drama not less exciting was being enacted in the agitated air. SENTENCE_END',\n",
              " 'SENTENCE_START in fact, a balloon, as a ball might be carried on the summit of a waterspout, had been taken into the circling movement of a column of air and had traversed space at the rate of ninety miles an hour, turning round and round as if seized by some aerial maelstrom. SENTENCE_END',\n",
              " 'SENTENCE_START beneath the lower point of the balloon swung a car, containing five passengers, scarcely visible in the midst of the thick vapor mingled with spray which hung over the surface of the ocean. SENTENCE_END',\n",
              " 'SENTENCE_START whence, it may be asked, had come that plaything of the tempest? SENTENCE_END',\n",
              " 'SENTENCE_START from what part of the world did it rise? SENTENCE_END',\n",
              " 'SENTENCE_START it surely could not have started during the storm. SENTENCE_END',\n",
              " 'SENTENCE_START but the storm had raged five days already, and the first symptoms were manifested on the 18th. SENTENCE_END',\n",
              " 'SENTENCE_START it cannot be doubted that the balloon came from a great distance, for it could not have traveled less than two thousand miles in twenty-four hours. SENTENCE_END',\n",
              " 'SENTENCE_START at any rate the passengers, destitute of all marks for their guidance, could not have possessed the means of reckoning the route traversed since their departure. SENTENCE_END',\n",
              " 'SENTENCE_START it was a remarkable fact that, although in the very midst of the furious tempest, they did not suffer from it. SENTENCE_END',\n",
              " 'SENTENCE_START they were thrown about and whirled round and round without feeling the rotation in the slightest degree, or being sensible that they were removed from a horizontal position. SENTENCE_END',\n",
              " 'SENTENCE_START their eyes could not pierce through the thick mist which had gathered beneath the car. SENTENCE_END',\n",
              " 'SENTENCE_START dark vapor was all around them. SENTENCE_END',\n",
              " 'SENTENCE_START such was the density of the atmosphere that they could not be certain whether it was day or night. SENTENCE_END',\n",
              " 'SENTENCE_START no reflection of light, no sound from inhabited land, no roaring of the ocean could have reached them, through the obscurity, while suspended in those elevated zones. SENTENCE_END',\n",
              " 'SENTENCE_START their rapid descent alone had informed them of the dangers which they ran from the waves. SENTENCE_END',\n",
              " 'SENTENCE_START however, the balloon, lightened of heavy articles, such as ammunition, arms, and provisions, had risen into the higher layers of the atmosphere, to a height of 4,500 feet. SENTENCE_END',\n",
              " 'SENTENCE_START the voyagers, after having discovered that the sea extended beneath them, and thinking the dangers above less dreadful than those below, did not hesitate to throw overboard even their most useful articles, while they endeavored to lose no more of that fluid, the life of their enterprise, which sustained them above the abyss. SENTENCE_END',\n",
              " 'SENTENCE_START the night passed in the midst of alarms which would have been death to less energetic souls. SENTENCE_END',\n",
              " 'SENTENCE_START again the day appeared and with it the tempest began to moderate. SENTENCE_END',\n",
              " 'SENTENCE_START from the beginning of that day, the 24th of march, it showed symptoms of abating. SENTENCE_END',\n",
              " 'SENTENCE_START at dawn, some of the lighter clouds had risen into the more lofty regions of the air. SENTENCE_END',\n",
              " 'SENTENCE_START in a few hours the wind had changed from a hurricane to a fresh breeze, that is to say, the rate of the transit of the atmospheric layers was diminished by half. SENTENCE_END',\n",
              " 'SENTENCE_START it was still what sailors call “a close-reefed topsail breeze,” but the commotion in the elements had none the less considerably diminished. SENTENCE_END',\n",
              " 'SENTENCE_START towards eleven o’clock, the lower region of the air was sensibly clearer. SENTENCE_END',\n",
              " 'SENTENCE_START the atmosphere threw off that chilly dampness which is felt after the passage of a great meteor. SENTENCE_END',\n",
              " 'SENTENCE_START the storm did not seem to have gone farther to the west. SENTENCE_END',\n",
              " 'SENTENCE_START it appeared to have exhausted itself. SENTENCE_END',\n",
              " 'SENTENCE_START could it have passed away in electric sheets, as is sometimes the case with regard to the typhoons of the indian ocean? SENTENCE_END',\n",
              " 'SENTENCE_START but at the same time, it was also evident that the balloon was again slowly descending with a regular movement. SENTENCE_END',\n",
              " 'SENTENCE_START it appeared as if it were, little by little, collapsing, and that its case was lengthening and extending, passing from a spherical to an oval form. SENTENCE_END',\n",
              " 'SENTENCE_START towards midday the balloon was hovering above the sea at a height of only 2,000 feet. SENTENCE_END',\n",
              " 'SENTENCE_START it contained 50,000 cubic feet of gas, and, thanks to its capacity, it could maintain itself a long time in the air, although it should reach a great altitude or might be thrown into a horizontal position. SENTENCE_END',\n",
              " 'SENTENCE_START perceiving their danger, the passengers cast away the last articles which still weighed down the car, the few provisions they had kept, everything, even to their pocket-knives, and one of them, having hoisted himself on to the circles which united the cords of the net, tried to secure more firmly the lower point of the balloon. SENTENCE_END',\n",
              " 'SENTENCE_START it was, however, evident to the voyagers that the gas was failing, and that the balloon could no longer be sustained in the higher regions. SENTENCE_END',\n",
              " 'SENTENCE_START they must infallibly perish! SENTENCE_END',\n",
              " 'SENTENCE_START there was not a continent, nor even an island, visible beneath them. SENTENCE_END',\n",
              " 'SENTENCE_START the watery expanse did not present a single speck of land, not a solid surface upon which their anchor could hold. SENTENCE_END',\n",
              " 'SENTENCE_START it was the open sea, whose waves were still dashing with tremendous violence! SENTENCE_END',\n",
              " 'SENTENCE_START it was the ocean, without any visible limits, even for those whose gaze, from their commanding position, extended over a radius of forty miles. SENTENCE_END',\n",
              " 'SENTENCE_START the vast liquid plain, lashed without mercy by the storm, appeared as if covered with herds of furious chargers, whose white and disheveled crests were streaming in the wind. SENTENCE_END',\n",
              " 'SENTENCE_START no land was in sight, not a solitary ship could be seen. SENTENCE_END',\n",
              " 'SENTENCE_START it was necessary at any cost to arrest their downward course, and to prevent the balloon from being engulfed in the waves. SENTENCE_END',\n",
              " 'SENTENCE_START the voyagers directed all their energies to this urgent work. SENTENCE_END',\n",
              " 'SENTENCE_START but, notwithstanding their efforts, the balloon still fell, and at the same time shifted with the greatest rapidity, following the direction of the wind, that is to say, from the northeast to the southwest. SENTENCE_END',\n",
              " 'SENTENCE_START frightful indeed was the situation of these unfortunate men. SENTENCE_END',\n",
              " 'SENTENCE_START they were evidently no longer masters of the machine. SENTENCE_END',\n",
              " 'SENTENCE_START all their attempts were useless. SENTENCE_END',\n",
              " 'SENTENCE_START the case of the balloon collapsed more and more. SENTENCE_END',\n",
              " 'SENTENCE_START the gas escaped without any possibility of retaining it. SENTENCE_END',\n",
              " 'SENTENCE_START their descent was visibly accelerated, and soon after midday the car hung within 600 feet of the ocean. SENTENCE_END',\n",
              " 'SENTENCE_START it was impossible to prevent the escape of gas, which rushed through a large rent in the silk. SENTENCE_END',\n",
              " 'SENTENCE_START by lightening the car of all the articles which it contained, the passengers had been able to prolong their suspension in the air for a few hours. SENTENCE_END',\n",
              " 'SENTENCE_START but the inevitable catastrophe could only be retarded, and if land did not appear before night, voyagers, car, and balloon must to a certainty vanish beneath the waves. SENTENCE_END',\n",
              " 'SENTENCE_START they now resorted to the only remaining expedient. SENTENCE_END',\n",
              " 'SENTENCE_START they were truly dauntless men, who knew how to look death in the face. SENTENCE_END',\n",
              " 'SENTENCE_START not a single murmur escaped from their lips. SENTENCE_END',\n",
              " 'SENTENCE_START they were determined to struggle to the last minute, to do anything to retard their fall. SENTENCE_END',\n",
              " 'SENTENCE_START the car was only a sort of willow basket, unable to float, and there was not the slightest possibility of maintaining it on the surface of the sea. SENTENCE_END',\n",
              " 'SENTENCE_START two more hours passed and the balloon was scarcely 400 feet above the water. SENTENCE_END',\n",
              " 'SENTENCE_START at that moment a loud voice, the voice of a man whose heart was inaccessible to fear, was heard. SENTENCE_END',\n",
              " 'SENTENCE_START to this voice responded others not less determined. SENTENCE_END',\n",
              " 'SENTENCE_START “is everything thrown out?” “no, here are still 2,000 dollars in gold.” a heavy bag immediately plunged into the sea. SENTENCE_END',\n",
              " 'SENTENCE_START “does the balloon rise?” “a little, but it will not be long before it falls again.” “what still remains to be thrown out?” “nothing.” “yes! SENTENCE_END',\n",
              " 'SENTENCE_START the car!” “let us catch hold of the net, and into the sea with the car.” SENTENCE_END',\n",
              " 'SENTENCE_START this was, in fact, the last and only mode of lightening the balloon. SENTENCE_END',\n",
              " 'SENTENCE_START the ropes which held the car were cut, and the balloon, after its fall, mounted 2,000 feet. SENTENCE_END',\n",
              " 'SENTENCE_START the five voyagers had hoisted themselves into the net, and clung to the meshes, gazing at the abyss. SENTENCE_END',\n",
              " 'SENTENCE_START the delicate sensibility of balloons is well known. SENTENCE_END',\n",
              " 'SENTENCE_START it is sufficient to throw out the lightest article to produce a difference in its vertical position. SENTENCE_END',\n",
              " 'SENTENCE_START the apparatus in the air is like a balance of mathematical precision. SENTENCE_END',\n",
              " 'SENTENCE_START it can be thus easily understood that when it is lightened of any considerable weight its movement will be impetuous and sudden. SENTENCE_END',\n",
              " 'SENTENCE_START so it happened on this occasion. SENTENCE_END',\n",
              " 'SENTENCE_START but after being suspended for an instant aloft, the balloon began to redescend, the gas escaping by the rent which it was impossible to repair. SENTENCE_END',\n",
              " 'SENTENCE_START the men had done all that men could do. SENTENCE_END',\n",
              " 'SENTENCE_START no human efforts could save them now. SENTENCE_END',\n",
              " 'SENTENCE_START they must trust to the mercy of him who rules the elements. SENTENCE_END',\n",
              " 'SENTENCE_START at four o’clock the balloon was only 500 feet above the surface of the water. SENTENCE_END',\n",
              " 'SENTENCE_START a loud barking was heard. SENTENCE_END',\n",
              " 'SENTENCE_START a dog accompanied the voyagers, and was held pressed close to his master in the meshes of the net. SENTENCE_END',\n",
              " 'SENTENCE_START “top has seen something,” cried one of the men. SENTENCE_END',\n",
              " 'SENTENCE_START then immediately a loud voice shouted,-- SENTENCE_END']"
            ]
          },
          "metadata": {
            "tags": []
          },
          "execution_count": 122
        }
      ]
    },
    {
      "cell_type": "markdown",
      "metadata": {
        "id": "FK5FXw_1Ow2I",
        "colab_type": "text"
      },
      "source": [
        "### The below code is used for part a). It concatenates every two consecutive sentences together to approximately double the sentence length that is being fed into our network for training."
      ]
    },
    {
      "cell_type": "code",
      "metadata": {
        "id": "VOie6Rhj4d00",
        "colab_type": "code",
        "colab": {}
      },
      "source": [
        "count = 0\n",
        "sent = \"\"\n",
        "token_sent_double = []\n",
        "for sentence in sentence_list:\n",
        "  sent += sentence # set sent to two consecutive sentences\n",
        "  sent = sent.replace(' SENTENCE_ENDSENTENCE_START ', ' ') # need to get rid of start and end in middle after concatenating\n",
        "\n",
        "  count += 1\n",
        "  if count % 2 == 0:\n",
        "    token_sent_double.append(sent) # append to list\n",
        "    sent = \"\"\n",
        "    count = 0"
      ],
      "execution_count": 0,
      "outputs": []
    },
    {
      "cell_type": "markdown",
      "metadata": {
        "id": "DEiX4_bvPe5t",
        "colab_type": "text"
      },
      "source": [
        "### The below code is used for part b). It halves every sentence to halve the sentence length that is being fed into our network for training."
      ]
    },
    {
      "cell_type": "code",
      "metadata": {
        "id": "Dh2aYjAD8L_N",
        "colab_type": "code",
        "colab": {}
      },
      "source": [
        "token_sent_half = []\n",
        "for sentence in sentence_list:\n",
        "  sentence = nltk.word_tokenize(sentence) # tokenize into list of separate words\n",
        "  first_half, second_half = (sentence[:round(len(sentence)/2)]), (sentence[round(len(sentence)/2):]) # split string into first and second halves\n",
        "  first_half.append('SENTENCE_END') # add sentence end to first half at end\n",
        "  second_half.insert(0, 'SENTENCE_START') # add sentence start to second half at beginning\n",
        "  token_sent_half.append(\" \".join(first_half)) # must join before appending to rejoin into sentence string\n",
        "  token_sent_half.append(\" \".join(second_half))"
      ],
      "execution_count": 0,
      "outputs": []
    },
    {
      "cell_type": "markdown",
      "metadata": {
        "id": "fkuv2UMCP7NJ",
        "colab_type": "text"
      },
      "source": [
        "### Get tokenized sentence lists for each separate part"
      ]
    },
    {
      "cell_type": "code",
      "metadata": {
        "id": "8SPTDsgJ1Zaq",
        "colab_type": "code",
        "colab": {}
      },
      "source": [
        "# for first part\n",
        "tokenized_sentences = [nltk.word_tokenize(sent) for sent in sentence_list]\n",
        "\n",
        "# for second part with double length sentences\n",
        "tokenized_sentences_double = [nltk.word_tokenize(sent) for sent in token_sent_double]\n",
        "\n",
        "# for third part with half length sentences\n",
        "tokenized_sentences_half = [nltk.word_tokenize(sent) for sent in token_sent_half]"
      ],
      "execution_count": 0,
      "outputs": []
    },
    {
      "cell_type": "code",
      "metadata": {
        "id": "3CH6DIts1Zas",
        "colab_type": "code",
        "outputId": "adc23139-9efa-4306-cdbc-c2cd30b2c9bb",
        "colab": {
          "base_uri": "https://localhost:8080/",
          "height": 68
        }
      },
      "source": [
        "print((str(len(tokenized_sentences))) + \" tokenized sentences for first part.\")\n",
        "\n",
        "# Note how number of sentences in double the length is half the number compared to original\n",
        "print((str(len(tokenized_sentences_double))) + \" tokenized sentences for second part.\")\n",
        "\n",
        "# Note how number of sentences in half the length is double the number compared to original\n",
        "print((str(len(tokenized_sentences_half))) + \" tokenized sentences for third part.\")"
      ],
      "execution_count": 135,
      "outputs": [
        {
          "output_type": "stream",
          "text": [
            "25324 tokenized sentences for first part.\n",
            "12662 tokenized sentences for second part.\n",
            "50648 tokenized sentences for third part.\n"
          ],
          "name": "stdout"
        }
      ]
    },
    {
      "cell_type": "code",
      "metadata": {
        "id": "Xh4jq3uA1Zau",
        "colab_type": "code",
        "outputId": "f6100c22-69eb-4f76-88f8-dd6ea936cc47",
        "colab": {
          "base_uri": "https://localhost:8080/",
          "height": 88
        }
      },
      "source": [
        "print(tokenized_sentences[6])\n",
        "\n",
        "print(tokenized_sentences_double[6])\n",
        "\n",
        "print(tokenized_sentences_half[6])"
      ],
      "execution_count": 136,
      "outputs": [
        {
          "output_type": "stream",
          "text": [
            "['SENTENCE_START', 'on', 'the', 'contrary.', '”', '“', 'are', 'we', 'descending', '?', '”', '“', 'worse', 'than', 'that', ',', 'captain', '!', 'SENTENCE_END']\n",
            "['SENTENCE_START', 'such', 'were', 'the', 'loud', 'and', 'startling', 'words', 'which', 'resounded', 'through', 'the', 'air', ',', 'above', 'the', 'vast', 'watery', 'desert', 'of', 'the', 'pacific', ',', 'about', 'four', 'o', '’', 'clock', 'in', 'the', 'evening', 'of', 'the', '23rd', 'of', 'march', ',', '1865.', 'few', 'can', 'possibly', 'have', 'forgotten', 'the', 'terrible', 'storm', 'from', 'the', 'northeast', ',', 'in', 'the', 'middle', 'of', 'the', 'equinox', 'of', 'that', 'year', '.', 'SENTENCE_END']\n",
            "['SENTENCE_START', 'part', '1', '--', 'SENTENCE_END']\n"
          ],
          "name": "stdout"
        }
      ]
    },
    {
      "cell_type": "code",
      "metadata": {
        "id": "0ZXUPEw_1Zav",
        "colab_type": "code",
        "colab": {}
      },
      "source": [
        "word_freq = nltk.FreqDist(itertools.chain(*tokenized_sentences))\n",
        "\n",
        "word_freq_double = nltk.FreqDist(itertools.chain(*tokenized_sentences_double))\n",
        "\n",
        "word_freq_half = nltk.FreqDist(itertools.chain(*tokenized_sentences_half))"
      ],
      "execution_count": 0,
      "outputs": []
    },
    {
      "cell_type": "code",
      "metadata": {
        "id": "bV6w3a8R1Zay",
        "colab_type": "code",
        "outputId": "ee78e71b-ca99-4b7a-e00d-ea804840eb77",
        "colab": {
          "base_uri": "https://localhost:8080/",
          "height": 68
        }
      },
      "source": [
        "print(\"Found %d unique words tokens in tokenized_sentences.\" % len(word_freq.items()))\n",
        "\n",
        "print(\"Found %d unique words tokens in tokenized_sentences_double.\" % len(word_freq_double.items()))\n",
        "\n",
        "print(\"Found %d unique words tokens in tokenized_sentences_half.\" % len(word_freq_half.items()))"
      ],
      "execution_count": 141,
      "outputs": [
        {
          "output_type": "stream",
          "text": [
            "Found 20063 unique words tokens in tokenized_sentences.\n",
            "Found 20064 unique words tokens in tokenized_sentences_double.\n",
            "Found 19206 unique words tokens in tokenized_sentences_half.\n"
          ],
          "name": "stdout"
        }
      ]
    },
    {
      "cell_type": "code",
      "metadata": {
        "id": "scSKD6kG1Za0",
        "colab_type": "code",
        "colab": {}
      },
      "source": [
        "word_freq"
      ],
      "execution_count": 0,
      "outputs": []
    },
    {
      "cell_type": "code",
      "metadata": {
        "id": "VxlowFjdTfol",
        "colab_type": "code",
        "colab": {}
      },
      "source": [
        "word_freq_double"
      ],
      "execution_count": 0,
      "outputs": []
    },
    {
      "cell_type": "code",
      "metadata": {
        "id": "vLKPIuhkTf8o",
        "colab_type": "code",
        "colab": {}
      },
      "source": [
        "word_freq_half"
      ],
      "execution_count": 0,
      "outputs": []
    },
    {
      "cell_type": "code",
      "metadata": {
        "id": "pfPIJ9B_1Za2",
        "colab_type": "code",
        "colab": {}
      },
      "source": [
        "vocab_1 = word_freq.most_common(vocabulary_size-1) # for original \n",
        "vocab_2 = word_freq_double.most_common(vocabulary_size-1) # for double\n",
        "vocab_3 = word_freq_half.most_common(vocabulary_size-1) # for half\n",
        "\n",
        "# index to word and word to index for original\n",
        "index_to_word_1 = [x[0] for x in vocab_1]\n",
        "index_to_word_1.append(unknown_token)\n",
        "word_to_index_1 = dict([(w,i) for i,w in enumerate(index_to_word_1)])\n",
        "\n",
        "# index to word and word to index for double\n",
        "index_to_word_2 = [x[0] for x in vocab_2]\n",
        "index_to_word_2.append(unknown_token)\n",
        "word_to_index_2 = dict([(w,i) for i,w in enumerate(index_to_word_2)])\n",
        "\n",
        "# index to word and word to index for half\n",
        "index_to_word_3 = [x[0] for x in vocab_3]\n",
        "index_to_word_3.append(unknown_token)\n",
        "word_to_index_3 = dict([(w,i) for i,w in enumerate(index_to_word_3)])"
      ],
      "execution_count": 0,
      "outputs": []
    },
    {
      "cell_type": "code",
      "metadata": {
        "id": "xnsM_OTD1Za4",
        "colab_type": "code",
        "colab": {}
      },
      "source": [
        "word_to_index_1"
      ],
      "execution_count": 0,
      "outputs": []
    },
    {
      "cell_type": "code",
      "metadata": {
        "id": "FblULskXUaIW",
        "colab_type": "code",
        "colab": {}
      },
      "source": [
        "word_to_index_2"
      ],
      "execution_count": 0,
      "outputs": []
    },
    {
      "cell_type": "code",
      "metadata": {
        "id": "iP1Vp1kwUafE",
        "colab_type": "code",
        "colab": {}
      },
      "source": [
        "word_to_index_3"
      ],
      "execution_count": 0,
      "outputs": []
    },
    {
      "cell_type": "code",
      "metadata": {
        "id": "Wep2Gpvm1Za6",
        "colab_type": "code",
        "outputId": "253885e5-7042-462f-8ad2-dec915b512df",
        "colab": {
          "base_uri": "https://localhost:8080/",
          "height": 105
        }
      },
      "source": [
        "print(\"Using vocabulary size %d.\" % vocabulary_size)\n",
        "print(\"The least frequent word in our original vocabulary is '%s' and appeared %d times.\" % (vocab_1[-1][0], vocab_1[-1][1]))\n",
        "print(\"The least frequent word in our double vocabulary is '%s' and appeared %d times.\" % (vocab_2[-1][0], vocab_2[-1][1]))\n",
        "print(\"The least frequent word in our half vocabulary is '%s' and appeared %d times.\" % (vocab_3[-1][0], vocab_3[-1][1]))\n",
        "#word_freq.most_common(10)"
      ],
      "execution_count": 153,
      "outputs": [
        {
          "output_type": "stream",
          "text": [
            "Using vocabulary size 8000.\n",
            "The least frequent word in our original vocabulary is 'sober' and appeared 3 times.\n",
            "The least frequent word in our double vocabulary is 'sober' and appeared 3 times.\n",
            "The least frequent word in our half vocabulary is 'boatmen' and appeared 3 times.\n"
          ],
          "name": "stdout"
        }
      ]
    },
    {
      "cell_type": "code",
      "metadata": {
        "id": "fjzsUBsM1Za7",
        "colab_type": "code",
        "outputId": "e6502869-83e1-4afb-f4f1-f8d1e2280f07",
        "colab": {
          "base_uri": "https://localhost:8080/",
          "height": 68
        }
      },
      "source": [
        "print(index_to_word_1[7999])\n",
        "print(index_to_word_2[7999])\n",
        "print(index_to_word_3[7999])"
      ],
      "execution_count": 156,
      "outputs": [
        {
          "output_type": "stream",
          "text": [
            "UNKNOWN\n",
            "UNKNOWN\n",
            "UNKNOWN\n"
          ],
          "name": "stdout"
        }
      ]
    },
    {
      "cell_type": "code",
      "metadata": {
        "id": "uG2aiCJV1Za9",
        "colab_type": "code",
        "colab": {}
      },
      "source": [
        "# Replace all words not in vocabulary with the unknown token ORIGINAL\n",
        "for i, sentence in enumerate(tokenized_sentences):\n",
        "    tokenized_sentences[i] = [w if w in word_to_index else unknown_token for w in sentence]"
      ],
      "execution_count": 0,
      "outputs": []
    },
    {
      "cell_type": "code",
      "metadata": {
        "id": "KfXsnu55VkUU",
        "colab_type": "code",
        "colab": {}
      },
      "source": [
        "# Replace all words not in vocabulary with the unknown token DOUBLE\n",
        "for i, sentence in enumerate(tokenized_sentences_double):\n",
        "    tokenized_sentences_double[i] = [w if w in word_to_index else unknown_token for w in sentence]"
      ],
      "execution_count": 0,
      "outputs": []
    },
    {
      "cell_type": "code",
      "metadata": {
        "id": "iaxv1DYSVop8",
        "colab_type": "code",
        "colab": {}
      },
      "source": [
        "# Replace all words not in vocabulary with the unknown token HALF\n",
        "for i, sentence in enumerate(tokenized_sentences_half):\n",
        "    tokenized_sentences_half[i] = [w if w in word_to_index else unknown_token for w in sentence]"
      ],
      "execution_count": 0,
      "outputs": []
    },
    {
      "cell_type": "code",
      "metadata": {
        "id": "yC5zk0AU1Za_",
        "colab_type": "code",
        "outputId": "b4a67249-0d36-4108-9bc6-fa28e8566375",
        "colab": {
          "base_uri": "https://localhost:8080/",
          "height": 105
        }
      },
      "source": [
        "print(\"\\nExample sentence: '%s'\" % sentence_list[3])\n",
        "print(\"\\nExample sentence after Pre-processing: '%s'\" % tokenized_sentences[3])"
      ],
      "execution_count": 161,
      "outputs": [
        {
          "output_type": "stream",
          "text": [
            "\n",
            "Example sentence: 'SENTENCE_START  part 1--dropped from the clouds SENTENCE_END'\n",
            "\n",
            "Example sentence after Pre-processing: '['SENTENCE_START', 'part', '1', '--', 'dropped', 'from', 'the', 'clouds', 'SENTENCE_END']'\n"
          ],
          "name": "stdout"
        }
      ]
    },
    {
      "cell_type": "markdown",
      "metadata": {
        "id": "n8ix42eqWQ8n",
        "colab_type": "text"
      },
      "source": [
        "### Create training data for each part of Task 1"
      ]
    },
    {
      "cell_type": "code",
      "metadata": {
        "id": "O4prklGP1ZbB",
        "colab_type": "code",
        "colab": {}
      },
      "source": [
        "# Create the training data for original\n",
        "XTrain = np.asarray([[word_to_index[w] for w in sent[:-1]] for sent in tokenized_sentences])\n",
        "YTrain = np.asarray([[word_to_index[w] for w in sent [1:]] for sent in tokenized_sentences])\n",
        "\n",
        "# Create the training data for double\n",
        "XTrain_double = np.asarray([[word_to_index[w] for w in sent[:-1]] for sent in tokenized_sentences_double])\n",
        "YTrain_double = np.asarray([[word_to_index[w] for w in sent [1:]] for sent in tokenized_sentences_double])\n",
        "\n",
        "# Create the training data for half\n",
        "XTrain_half = np.asarray([[word_to_index[w] for w in sent[:-1]] for sent in tokenized_sentences_half])\n",
        "YTrain_half = np.asarray([[word_to_index[w] for w in sent [1:]] for sent in tokenized_sentences_half])"
      ],
      "execution_count": 0,
      "outputs": []
    },
    {
      "cell_type": "code",
      "metadata": {
        "id": "id9yC6gW1ZbD",
        "colab_type": "code",
        "outputId": "ecf3149b-fa90-49c0-b774-f78f67b4c66a",
        "colab": {
          "base_uri": "https://localhost:8080/",
          "height": 122
        }
      },
      "source": [
        "XTrain"
      ],
      "execution_count": 163,
      "outputs": [
        {
          "output_type": "execute_result",
          "data": {
            "text/plain": [
              "array([list([2, 1, 843, 77]), list([2, 26, 4825, 1537]), list([2, 7999]),\n",
              "       ...,\n",
              "       list([2, 299, 16, 68, 13, 1161, 343, 541, 5, 18, 7999, 590, 38]),\n",
              "       list([2, 347, 6, 15, 313, 146, 7006, 419, 1495, 9, 1, 1262, 5, 7999, 10, 85, 104, 5657, 1, 7999, 425, 38, 11, 7999, 269, 87, 5, 46, 1703, 40, 84, 4347, 1, 179, 6, 392, 4]),\n",
              "       list([2, 63, 106, 7, 5246])], dtype=object)"
            ]
          },
          "metadata": {
            "tags": []
          },
          "execution_count": 163
        }
      ]
    },
    {
      "cell_type": "code",
      "metadata": {
        "colab_type": "code",
        "outputId": "b7812cba-5f98-4a03-9ef0-1c5d9d945347",
        "id": "p6ua76-rWebi",
        "colab": {
          "base_uri": "https://localhost:8080/",
          "height": 156
        }
      },
      "source": [
        "XTrain_double"
      ],
      "execution_count": 164,
      "outputs": [
        {
          "output_type": "execute_result",
          "data": {
            "text/plain": [
              "array([list([2, 1, 843, 77, 26, 4825, 1537]),\n",
              "       list([2, 7999, 177, 1303, 69, 1891, 35, 1, 751]),\n",
              "       list([2, 263, 1303, 10, 71, 27, 579, 173, 38, 11, 10, 44, 4]), ...,\n",
              "       list([2, 185, 1, 7999, 724, 200, 0, 7, 1, 4779, 1355, 25, 3516, 902, 5, 1, 339, 24, 61, 25, 6117, 37, 569, 0, 14, 16, 39, 215, 4291, 4]),\n",
              "       list([2, 1675, 16, 68, 13, 7999, 14, 262, 38, 299, 16, 68, 13, 1161, 343, 541, 5, 18, 7999, 590, 38]),\n",
              "       list([2, 347, 6, 15, 313, 146, 7006, 419, 1495, 9, 1, 1262, 5, 7999, 10, 85, 104, 5657, 1, 7999, 425, 38, 11, 7999, 269, 87, 5, 46, 1703, 40, 84, 4347, 1, 179, 6, 392, 4, 63, 106, 7, 5246])],\n",
              "      dtype=object)"
            ]
          },
          "metadata": {
            "tags": []
          },
          "execution_count": 164
        }
      ]
    },
    {
      "cell_type": "code",
      "metadata": {
        "colab_type": "code",
        "outputId": "01077758-ea8f-43c1-e10f-0fec2e36fb32",
        "id": "nEzHqCFQWfld",
        "colab": {
          "base_uri": "https://localhost:8080/",
          "height": 88
        }
      },
      "source": [
        "XTrain_half"
      ],
      "execution_count": 165,
      "outputs": [
        {
          "output_type": "execute_result",
          "data": {
            "text/plain": [
              "array([list([2, 1]), list([2, 843, 77]), list([2, 26]), ...,\n",
              "       list([2, 7999, 425, 38, 11, 7999, 269, 87, 5, 46, 1703, 40, 84, 4347, 1, 179, 6, 392, 4]),\n",
              "       list([2, 63, 106]), list([2, 7, 5246])], dtype=object)"
            ]
          },
          "metadata": {
            "tags": []
          },
          "execution_count": 165
        }
      ]
    },
    {
      "cell_type": "code",
      "metadata": {
        "id": "HrqKSdUA1ZbG",
        "colab_type": "code",
        "outputId": "2a191aab-b127-4dbe-af62-09a5d09b45d8",
        "colab": {
          "base_uri": "https://localhost:8080/",
          "height": 122
        }
      },
      "source": [
        "YTrain"
      ],
      "execution_count": 166,
      "outputs": [
        {
          "output_type": "execute_result",
          "data": {
            "text/plain": [
              "array([list([1, 843, 77, 3]), list([26, 4825, 1537, 3]), list([7999, 3]),\n",
              "       ...,\n",
              "       list([299, 16, 68, 13, 1161, 343, 541, 5, 18, 7999, 590, 38, 3]),\n",
              "       list([347, 6, 15, 313, 146, 7006, 419, 1495, 9, 1, 1262, 5, 7999, 10, 85, 104, 5657, 1, 7999, 425, 38, 11, 7999, 269, 87, 5, 46, 1703, 40, 84, 4347, 1, 179, 6, 392, 4, 3]),\n",
              "       list([63, 106, 7, 5246, 3])], dtype=object)"
            ]
          },
          "metadata": {
            "tags": []
          },
          "execution_count": 166
        }
      ]
    },
    {
      "cell_type": "code",
      "metadata": {
        "colab_type": "code",
        "outputId": "ba94d4d9-8637-433c-938d-5e0f61dcaae2",
        "id": "YhPGiChCWlgn",
        "colab": {
          "base_uri": "https://localhost:8080/",
          "height": 156
        }
      },
      "source": [
        "YTrain_double"
      ],
      "execution_count": 167,
      "outputs": [
        {
          "output_type": "execute_result",
          "data": {
            "text/plain": [
              "array([list([1, 843, 77, 26, 4825, 1537, 3]),\n",
              "       list([7999, 177, 1303, 69, 1891, 35, 1, 751, 3]),\n",
              "       list([263, 1303, 10, 71, 27, 579, 173, 38, 11, 10, 44, 4, 3]), ...,\n",
              "       list([185, 1, 7999, 724, 200, 0, 7, 1, 4779, 1355, 25, 3516, 902, 5, 1, 339, 24, 61, 25, 6117, 37, 569, 0, 14, 16, 39, 215, 4291, 4, 3]),\n",
              "       list([1675, 16, 68, 13, 7999, 14, 262, 38, 299, 16, 68, 13, 1161, 343, 541, 5, 18, 7999, 590, 38, 3]),\n",
              "       list([347, 6, 15, 313, 146, 7006, 419, 1495, 9, 1, 1262, 5, 7999, 10, 85, 104, 5657, 1, 7999, 425, 38, 11, 7999, 269, 87, 5, 46, 1703, 40, 84, 4347, 1, 179, 6, 392, 4, 63, 106, 7, 5246, 3])],\n",
              "      dtype=object)"
            ]
          },
          "metadata": {
            "tags": []
          },
          "execution_count": 167
        }
      ]
    },
    {
      "cell_type": "code",
      "metadata": {
        "colab_type": "code",
        "outputId": "346cb70c-d6c9-4650-83e1-d29f4bba0b73",
        "id": "MdMw6EUIWlwp",
        "colab": {
          "base_uri": "https://localhost:8080/",
          "height": 88
        }
      },
      "source": [
        "YTrain_half"
      ],
      "execution_count": 168,
      "outputs": [
        {
          "output_type": "execute_result",
          "data": {
            "text/plain": [
              "array([list([1, 3]), list([843, 77, 3]), list([26, 3]), ...,\n",
              "       list([7999, 425, 38, 11, 7999, 269, 87, 5, 46, 1703, 40, 84, 4347, 1, 179, 6, 392, 4, 3]),\n",
              "       list([63, 106, 3]), list([7, 5246, 3])], dtype=object)"
            ]
          },
          "metadata": {
            "tags": []
          },
          "execution_count": 168
        }
      ]
    },
    {
      "cell_type": "markdown",
      "metadata": {
        "id": "Ff-Hx6LLWu_5",
        "colab_type": "text"
      },
      "source": [
        "### Show 5 random sentences from XTrain and YTrain, to show how YTrain is just XTrain shifted once to the left"
      ]
    },
    {
      "cell_type": "code",
      "metadata": {
        "id": "uwqbQ3BC1ZbI",
        "colab_type": "code",
        "outputId": "fda90386-16be-4b91-b5c2-178ae9dd0914",
        "colab": {
          "base_uri": "https://localhost:8080/",
          "height": 887
        }
      },
      "source": [
        "import random\n",
        "\n",
        "for i in range(5):\n",
        "    idx = random.randint(0, len(XTrain))\n",
        "    x_example, y_example = XTrain[idx], YTrain[idx]\n",
        "    print(\"Sample id %d\\n========================\\n\" % idx)\n",
        "    print(\"x:\\n%s\\n%s\" % (\" \".join([index_to_word[x] for x in x_example]), x_example))\n",
        "    print(\"\\ny:\\n%s\\n%s\" % (\" \".join([index_to_word[x] for x in y_example]), y_example))"
      ],
      "execution_count": 170,
      "outputs": [
        {
          "output_type": "stream",
          "text": [
            "Sample id 9976\n",
            "========================\n",
            "\n",
            "x:\n",
            "SENTENCE_START “ the subterranean fires have therefore been UNKNOWN for ten weeks , ” resumed gideon spilett , “ and it is not to be wondered at that they now break out with such violence ! ”\n",
            "[2, 10, 1, 1026, 1690, 40, 229, 57, 7999, 32, 343, 2348, 0, 11, 890, 180, 123, 0, 10, 7, 14, 37, 28, 6, 31, 3028, 23, 15, 36, 84, 1221, 87, 22, 135, 1207, 24, 11]\n",
            "\n",
            "y:\n",
            "“ the subterranean fires have therefore been UNKNOWN for ten weeks , ” resumed gideon spilett , “ and it is not to be wondered at that they now break out with such violence ! ” SENTENCE_END\n",
            "[10, 1, 1026, 1690, 40, 229, 57, 7999, 32, 343, 2348, 0, 11, 890, 180, 123, 0, 10, 7, 14, 37, 28, 6, 31, 3028, 23, 15, 36, 84, 1221, 87, 22, 135, 1207, 24, 11, 3]\n",
            "Sample id 11013\n",
            "========================\n",
            "\n",
            "x:\n",
            "SENTENCE_START `` on tuesday morning at seven o'clock be on board , '' said m. bjarne , UNKNOWN us our UNKNOWN .\n",
            "[2, 50, 19, 5895, 344, 23, 638, 1114, 31, 19, 355, 0, 49, 60, 1815, 6771, 0, 7999, 72, 48, 7999, 4]\n",
            "\n",
            "y:\n",
            "`` on tuesday morning at seven o'clock be on board , '' said m. bjarne , UNKNOWN us our UNKNOWN . SENTENCE_END\n",
            "[50, 19, 5895, 344, 23, 638, 1114, 31, 19, 355, 0, 49, 60, 1815, 6771, 0, 7999, 72, 48, 7999, 4, 3]\n",
            "Sample id 15516\n",
            "========================\n",
            "\n",
            "x:\n",
            "SENTENCE_START as far as we had hitherto gone , facts had proved the theories of davy and of UNKNOWN to be correct .\n",
            "[2, 29, 216, 29, 27, 17, 2875, 467, 0, 2588, 17, 1394, 1, 2722, 5, 4294, 7, 5, 7999, 6, 31, 1691, 4]\n",
            "\n",
            "y:\n",
            "as far as we had hitherto gone , facts had proved the theories of davy and of UNKNOWN to be correct . SENTENCE_END\n",
            "[29, 216, 29, 27, 17, 2875, 467, 0, 2588, 17, 1394, 1, 2722, 5, 4294, 7, 5, 7999, 6, 31, 1691, 4, 3]\n",
            "Sample id 23221\n",
            "========================\n",
            "\n",
            "x:\n",
            "SENTENCE_START without it , no sights were possible .\n",
            "[2, 95, 14, 0, 44, 2496, 34, 323, 4]\n",
            "\n",
            "y:\n",
            "without it , no sights were possible . SENTENCE_END\n",
            "[95, 14, 0, 44, 2496, 34, 323, 4, 3]\n",
            "Sample id 18685\n",
            "========================\n",
            "\n",
            "x:\n",
            "SENTENCE_START an underwater forest\n",
            "[2, 45, 449, 395]\n",
            "\n",
            "y:\n",
            "an underwater forest SENTENCE_END\n",
            "[45, 449, 395, 3]\n"
          ],
          "name": "stdout"
        }
      ]
    },
    {
      "cell_type": "markdown",
      "metadata": {
        "id": "bMNoHwkkW_Q2",
        "colab_type": "text"
      },
      "source": [
        "### Create the Vanilla RNN Class"
      ]
    },
    {
      "cell_type": "code",
      "metadata": {
        "id": "KKzyZFqT1ZbK",
        "colab_type": "code",
        "colab": {}
      },
      "source": [
        "class RNNVanilla:\n",
        "\n",
        "    def __init__(self, word_dim, hidden_dim=100, bptt_truncate=4):\n",
        "\n",
        "        # Assign instance variables\n",
        "        self.word_dim = word_dim # size of the vocabulary\n",
        "        self.hidden_dim = hidden_dim # size of hidden layer\n",
        "        self.bptt_truncate = bptt_truncate\n",
        "\n",
        "        # Randomly initialize the network parameters\n",
        "        self.U = np.random.uniform(-np.sqrt(1./word_dim), np.sqrt(1./word_dim), (hidden_dim, word_dim))\n",
        "        self.V = np.random.uniform(-np.sqrt(1./hidden_dim), np.sqrt(1./hidden_dim), (word_dim, hidden_dim))\n",
        "        self.W = np.random.uniform(-np.sqrt(1./hidden_dim), np.sqrt(1./hidden_dim), (hidden_dim, hidden_dim))\n",
        "\n"
      ],
      "execution_count": 0,
      "outputs": []
    },
    {
      "cell_type": "code",
      "metadata": {
        "id": "_j8mHHcD1ZbM",
        "colab_type": "code",
        "colab": {}
      },
      "source": [
        "def softmax(x):\n",
        "  ''' softmax function '''\n",
        "  xt = np.exp(x - np.max(x))\n",
        "  return xt / np.sum(xt)"
      ],
      "execution_count": 0,
      "outputs": []
    },
    {
      "cell_type": "code",
      "metadata": {
        "id": "94f3Wm741ZbP",
        "colab_type": "code",
        "colab": {}
      },
      "source": [
        "def forward_propagation(self, x):\n",
        "    # Total number of time steps\n",
        "    T = len(x)\n",
        "\n",
        "    # During forward propagation we save all hidden states in s because we need them later.\n",
        "\n",
        "    # We add one additional element for the initial hidden, which we set to 0\n",
        "    s = np.zeros((T + 1, self.hidden_dim))\n",
        "    s[-1] = np.zeros(self.hidden_dim)\n",
        "\n",
        "    # The outputs at each time step, Again, we save them for later\n",
        "    o = np.zeros((T, self.word_dim))\n",
        "\n",
        "    # For each time step...\n",
        "    for t in np.arange(T):\n",
        "        # Note that we are indexing U by x[t]. This is the same as multiplying U with a one-hot vector.\n",
        "        s[t] = np.tanh(self.U[:, x[t]] + self.W.dot(s[t-1]))\n",
        "        o[t] = softmax(self.V.dot(s[t]))\n",
        "    return [o, s] # We not only return the calculated outputs, but also the hidden states.\n",
        "                  # We will use them later to calculate the gradients\n",
        "\n",
        "# Now make it a member of the class RNNVanilla\n",
        "RNNVanilla.forward_propagation = forward_propagation"
      ],
      "execution_count": 0,
      "outputs": []
    },
    {
      "cell_type": "code",
      "metadata": {
        "id": "G_6E-NBc1ZbR",
        "colab_type": "code",
        "colab": {}
      },
      "source": [
        "def predict(self, x):\n",
        "    # Perform forward propagation and return index of the highest score\n",
        "    o, s = self.forward_propagation(x)\n",
        "    return np.argmax(o, axis=1)\n",
        "\n",
        "# Now make it a member of the class RNNVanilla\n",
        "RNNVanilla.predict = predict"
      ],
      "execution_count": 0,
      "outputs": []
    },
    {
      "cell_type": "code",
      "metadata": {
        "id": "FAo1g6Zh1ZbS",
        "colab_type": "code",
        "outputId": "bb8cf2ae-3ca1-4ac3-a9b4-e5219177e6e3",
        "colab": {
          "base_uri": "https://localhost:8080/",
          "height": 190
        }
      },
      "source": [
        "print(\"Length of XTrain[10] is %d\" % (len(XTrain[10])))\n",
        "np.random.seed(100)\n",
        "\n",
        "model = RNNVanilla(vocabulary_size)\n",
        "o, s = model.forward_propagation(XTrain[10])\n",
        "print(o.shape)\n",
        "print(o)\n",
        "# For each word in the sentence, the model made 8000 predictions representing probabilities of the next word\n",
        "# Note that because we initialized U, V, W to random values these predictions are completely random right now"
      ],
      "execution_count": 180,
      "outputs": [
        {
          "output_type": "stream",
          "text": [
            "Length of XTrain[10] is 19\n",
            "(19, 8000)\n",
            "[[0.0001246  0.00012553 0.00012589 ... 0.00012485 0.00012517 0.00012529]\n",
            " [0.00012536 0.00012431 0.00012473 ... 0.00012514 0.00012464 0.00012557]\n",
            " [0.00012478 0.00012452 0.00012558 ... 0.00012454 0.00012574 0.00012446]\n",
            " ...\n",
            " [0.00012477 0.00012464 0.00012533 ... 0.00012504 0.00012468 0.00012499]\n",
            " [0.00012518 0.00012559 0.00012501 ... 0.00012528 0.00012452 0.0001252 ]\n",
            " [0.00012431 0.00012588 0.00012578 ... 0.00012629 0.00012445 0.00012479]]\n"
          ],
          "name": "stdout"
        }
      ]
    },
    {
      "cell_type": "code",
      "metadata": {
        "scrolled": true,
        "id": "mWlF0aB_1ZbU",
        "colab_type": "code",
        "outputId": "27732df7-f13e-4e4b-87a2-55b53257d205",
        "colab": {
          "base_uri": "https://localhost:8080/",
          "height": 122
        }
      },
      "source": [
        "# The following gives the indices of the highest probability predictions for each word:\n",
        "predictions = model.predict(XTrain[10])\n",
        "print(predictions.shape)\n",
        "print(predictions)\n",
        "print(\"index_to_word>\")\n",
        "print('%s'%\" \".join([index_to_word[x] for x in predictions]))"
      ],
      "execution_count": 181,
      "outputs": [
        {
          "output_type": "stream",
          "text": [
            "(19,)\n",
            "[1386 2542 1193 7993 3728 6162 6969 2924 6734 5804 7288 3712 6787 4191\n",
            "   67 1409 6734 6695 5419]\n",
            "index_to_word>\n",
            "expect liked worth 1219 & anywhere expert navigation mounting weakened lion outline veil loudly him king mounting occurring recollect\n"
          ],
          "name": "stdout"
        }
      ]
    },
    {
      "cell_type": "code",
      "metadata": {
        "id": "01nMP49T1ZbW",
        "colab_type": "code",
        "colab": {}
      },
      "source": [
        "def calculate_total_loss(self, x, y):\n",
        "    L = 0\n",
        "\n",
        "    # For each sentence\n",
        "    for i in np.arange(len(y)):\n",
        "        o, s = self.forward_propagation(x[i])\n",
        "\n",
        "        # We only care about our prediction of the \"correct\" words\n",
        "        correct_word_predictions = o[np.arange(len(y[i])), y[i]]\n",
        "\n",
        "        # Add to the loss based on how off we were\n",
        "        L += -1 * sum(np.log(correct_word_predictions))\n",
        "    return L\n",
        "\n",
        "def calculate_loss(self, x, y):\n",
        "    # Divide the total loss by the number of training examples\n",
        "    N = sum((len(y_i) for y_i in y))\n",
        "    return self.calculate_total_loss(x,y)/N\n",
        "    \n",
        "RNNVanilla.calculate_total_loss = calculate_total_loss\n",
        "RNNVanilla.calculate_loss = calculate_loss\n",
        "    "
      ],
      "execution_count": 0,
      "outputs": []
    },
    {
      "cell_type": "code",
      "metadata": {
        "id": "9t-jaM5J1ZbX",
        "colab_type": "code",
        "outputId": "6700fd26-2e98-4ac3-d262-01034f620073",
        "colab": {
          "base_uri": "https://localhost:8080/",
          "height": 34
        }
      },
      "source": [
        "np.log(vocabulary_size)\n"
      ],
      "execution_count": 183,
      "outputs": [
        {
          "output_type": "execute_result",
          "data": {
            "text/plain": [
              "8.987196820661973"
            ]
          },
          "metadata": {
            "tags": []
          },
          "execution_count": 183
        }
      ]
    },
    {
      "cell_type": "code",
      "metadata": {
        "id": "dcLnGcvd1Zba",
        "colab_type": "code",
        "outputId": "bcda8038-1679-425a-8d9f-cc4190e117aa",
        "colab": {
          "base_uri": "https://localhost:8080/",
          "height": 34
        }
      },
      "source": [
        "XTrain[:100].shape"
      ],
      "execution_count": 184,
      "outputs": [
        {
          "output_type": "execute_result",
          "data": {
            "text/plain": [
              "(100,)"
            ]
          },
          "metadata": {
            "tags": []
          },
          "execution_count": 184
        }
      ]
    },
    {
      "cell_type": "code",
      "metadata": {
        "id": "25A8C9PN1Zbd",
        "colab_type": "code",
        "outputId": "189f531f-ef04-452e-ddf3-7e391a514a7e",
        "colab": {
          "base_uri": "https://localhost:8080/",
          "height": 34
        }
      },
      "source": [
        "XTrain.shape"
      ],
      "execution_count": 185,
      "outputs": [
        {
          "output_type": "execute_result",
          "data": {
            "text/plain": [
              "(25324,)"
            ]
          },
          "metadata": {
            "tags": []
          },
          "execution_count": 185
        }
      ]
    },
    {
      "cell_type": "code",
      "metadata": {
        "id": "caUVD8GF1Zbf",
        "colab_type": "code",
        "outputId": "3548d6aa-bf62-4cd8-e84a-a4231118c01c",
        "colab": {
          "base_uri": "https://localhost:8080/",
          "height": 51
        }
      },
      "source": [
        "# Limit to 1000 examples to save time\n",
        "print(\"Expected Loss for random predictions: %f\" % np.log(vocabulary_size))\n",
        "print(\"Actual loss: %f\" % model.calculate_loss(XTrain[:1000], YTrain[:1000]))\n"
      ],
      "execution_count": 187,
      "outputs": [
        {
          "output_type": "stream",
          "text": [
            "Expected Loss for random predictions: 8.987197\n",
            "Actual loss: 8.987239\n"
          ],
          "name": "stdout"
        }
      ]
    },
    {
      "cell_type": "code",
      "metadata": {
        "id": "4O8SLcZh1Zbg",
        "colab_type": "code",
        "colab": {}
      },
      "source": [
        "def bptt(self, x, y):\n",
        "    T = len(y)\n",
        "    # Perform forward propagation\n",
        "    o, s = self.forward_propagation(x)\n",
        "    # We accumulate the gradients in these variables\n",
        "    dLdU = np.zeros(self.U.shape)\n",
        "    dLdV = np.zeros(self.V.shape)\n",
        "    dLdW = np.zeros(self.W.shape)\n",
        "    delta_o = o\n",
        "    delta_o[np.arange(len(y)), y] -= 1.\n",
        "    # For each output backwards...\n",
        "    for t in np.arange(T)[::-1]:\n",
        "        dLdV += np.outer(delta_o[t], s[t].T)\n",
        "\n",
        "        # Initial delta calculation\n",
        "        delta_t = self.V.T.dot(delta_o[t]) * (1 - (s[t] ** 2))\n",
        "\n",
        "        # Backpropagation through time (for at most self.bptt_truncate steps)\n",
        "        for bptt_step in np.arange(max(0, t-self.bptt_truncate), t+1)[::-1]:\n",
        "\n",
        "            # print \"Backpropagation step t=%d bptt step=%d \" % (t, bptt_step)\n",
        "            dLdW += np.outer(delta_t, s[bptt_step-1])              \n",
        "            dLdU[:,x[bptt_step]] += delta_t\n",
        "\n",
        "            # Update delta for next step\n",
        "            delta_t = self.W.T.dot(delta_t) * (1 - s[bptt_step-1] ** 2)\n",
        "    return [dLdU, dLdV, dLdW]\n",
        "    \n",
        "\n",
        "RNNVanilla.bptt = bptt       "
      ],
      "execution_count": 0,
      "outputs": []
    },
    {
      "cell_type": "code",
      "metadata": {
        "id": "sxbBTvwU1Zbi",
        "colab_type": "code",
        "colab": {}
      },
      "source": [
        "def gradient_check(self, x, y, h=0.001, error_threshold=0.01):\n",
        "    # Calculate the gradients using backpropagation. We want to check if these are correct.\n",
        "    bptt_gradients = self.bptt(x, y)\n",
        "\n",
        "    # List of all parameters we want to check.\n",
        "    model_parameters = ['U', 'V', 'W']\n",
        "\n",
        "    # Gradient check for each parameter\n",
        "    for pidx, pname in enumerate(model_parameters):\n",
        "        # Get the actual parameter value from the mode, e.g. model.W\n",
        "        parameter = operator.attrgetter(pname)(self)\n",
        "        print(\"Performing gradient check for parameter %s with size %d.\" % (pname, np.prod(parameter.shape)))\n",
        "        # Iterate over each element of the parameter matrix, e.g. (0,0), (0,1), ...\n",
        "        it = np.nditer(parameter, flags=['multi_index'], op_flags=['readwrite'])\n",
        "        while not it.finished:\n",
        "            ix = it.multi_index\n",
        "            # Save the original value so we can reset it later\n",
        "            original_value = parameter[ix]\n",
        "            # Estimate the gradient using (f(x+h) - f(x-h))/(2*h)\n",
        "            parameter[ix] = original_value + h\n",
        "            gradplus = self.calculate_total_loss([x], [y])\n",
        "            parameter[ix] = original_value - h\n",
        "            gradminus = self.calculate_total_loss([x], [y])\n",
        "            estimated_gradient = (gradplus - gradminus)/(2*h)\n",
        "            # Reset parameter to original value\n",
        "            parameter[ix] = original_value\n",
        "            # The gradient for this parameter calculated using backpropagation\n",
        "            backprop_gradient = bptt_gradients[pidx][ix]\n",
        "            # calculate The relative error: (|x - y|/(|x| + |y|))\n",
        "            relative_error = np.abs(backprop_gradient - estimated_gradient)/(np.abs(backprop_gradient) + np.abs(estimated_gradient))\n",
        "            # If the error is to large fail the gradient check\n",
        "            if relative_error > error_threshold:\n",
        "                print (\"Gradient Check ERROR: parameter=%s ix=%s\" % (pname, ix))\n",
        "                print (\"+h Loss: %f\" % gradplus)\n",
        "                print (\"-h Loss: %f\" % gradminus)\n",
        "                print (\"Estimated_gradient: %f\" % estimated_gradient)\n",
        "                print (\"Backpropagation gradient: %f\" % backprop_gradient)\n",
        "                print (\"Relative Error: %f\" % relative_error)\n",
        "                return\n",
        "            it.iternext()\n",
        "        print (\"Gradient check for parameter %s passed.\" % (pname))\n",
        "\n",
        "RNNVanilla.gradient_check = gradient_check"
      ],
      "execution_count": 0,
      "outputs": []
    },
    {
      "cell_type": "code",
      "metadata": {
        "id": "5MDowIt61Zbk",
        "colab_type": "code",
        "outputId": "3acd052b-2ed6-4981-b0c0-8020583ab98f",
        "colab": {
          "base_uri": "https://localhost:8080/",
          "height": 156
        }
      },
      "source": [
        "# To avoid performing millions of expensive calculations we use a smaller vocabulary size for checking.\n",
        "grad_check_vocab_size = 100\n",
        "np.random.seed(10)\n",
        "model = RNNVanilla(grad_check_vocab_size, 10, bptt_truncate=1000)\n",
        "model.gradient_check([0,1,2,3], [1,2,3,4])"
      ],
      "execution_count": 190,
      "outputs": [
        {
          "output_type": "stream",
          "text": [
            "Performing gradient check for parameter U with size 1000.\n"
          ],
          "name": "stdout"
        },
        {
          "output_type": "stream",
          "text": [
            "/usr/local/lib/python3.6/dist-packages/ipykernel_launcher.py:30: RuntimeWarning: invalid value encountered in double_scalars\n"
          ],
          "name": "stderr"
        },
        {
          "output_type": "stream",
          "text": [
            "Gradient check for parameter U passed.\n",
            "Performing gradient check for parameter V with size 1000.\n",
            "Gradient check for parameter V passed.\n",
            "Performing gradient check for parameter W with size 100.\n",
            "Gradient check for parameter W passed.\n"
          ],
          "name": "stdout"
        }
      ]
    },
    {
      "cell_type": "code",
      "metadata": {
        "id": "mssIH5A_1Zbm",
        "colab_type": "code",
        "colab": {}
      },
      "source": [
        "# Performs one step of SGD.\n",
        "def numpy_sdg_step(self, x, y, learning_rate):\n",
        "    # Calculate the gradients\n",
        "    dLdU, dLdV, dLdW = self.bptt(x, y)\n",
        "    # Change parameters according to gradients and learning rate\n",
        "    self.U -= learning_rate * dLdU\n",
        "    self.V -= learning_rate * dLdV\n",
        "    self.W -= learning_rate * dLdW\n",
        "    \n",
        "RNNVanilla.sgd_step = numpy_sdg_step"
      ],
      "execution_count": 0,
      "outputs": []
    },
    {
      "cell_type": "code",
      "metadata": {
        "id": "Y0sVpF8y1Zbo",
        "colab_type": "code",
        "colab": {}
      },
      "source": [
        "# Outer SGD Loop\n",
        "# - model: The RNN model instance\n",
        "# - X_train: The training data set\n",
        "# - y_train: The training data labels\n",
        "# - learning_rate: Initial learning rate for SGD\n",
        "# - nepoch: Number of times to iterate through the complete dataset\n",
        "# - evaluate_loss_after: Evaluate the loss after this many epochs\n",
        "def train_with_sgd(model, X_train, y_train, learning_rate=0.005, nepoch=100, evaluate_loss_after=5):\n",
        "    # We keep track of the losses so we can plot them later\n",
        "    losses = []\n",
        "    num_examples_seen = 0\n",
        "    for epoch in range(nepoch):\n",
        "        # Optionally evaluate the loss\n",
        "        if (epoch % evaluate_loss_after == 0):\n",
        "            loss = model.calculate_loss(X_train, y_train)\n",
        "            losses.append((num_examples_seen, loss))\n",
        "            time = datetime.now().strftime('%Y-%m-%d %H:%M:%S')\n",
        "            print (\"%s: Loss after num_examples_seen=%d epoch=%d: %f\" % (time, num_examples_seen, epoch, loss))\n",
        "            # Adjust the learning rate if loss increases\n",
        "            if (len(losses) > 1 and losses[-1][1] > losses[-2][1]):\n",
        "                learning_rate = learning_rate * 0.5 \n",
        "                print (\"Setting learning rate to %f\" % learning_rate)\n",
        "            sys.stdout.flush()\n",
        "        # For each training example...\n",
        "        for i in range(len(y_train)):\n",
        "            # One SGD step\n",
        "            model.sgd_step(X_train[i], y_train[i], learning_rate)\n",
        "            num_examples_seen += 1\n",
        "    return losses"
      ],
      "execution_count": 0,
      "outputs": []
    },
    {
      "cell_type": "code",
      "metadata": {
        "id": "w2XSY4X11Zbp",
        "colab_type": "code",
        "outputId": "72a6d3c0-4dcb-4c9f-a601-e116c595ebca",
        "colab": {
          "base_uri": "https://localhost:8080/",
          "height": 34
        }
      },
      "source": [
        "np.random.seed(10)\n",
        "model = RNNVanilla(vocabulary_size)\n",
        "%timeit model.sgd_step(XTrain[10], YTrain[10], learning_rate=0.005)"
      ],
      "execution_count": 193,
      "outputs": [
        {
          "output_type": "stream",
          "text": [
            "10 loops, best of 3: 80 ms per loop\n"
          ],
          "name": "stdout"
        }
      ]
    },
    {
      "cell_type": "markdown",
      "metadata": {
        "id": "C582rxXUEAhq",
        "colab_type": "text"
      },
      "source": [
        "# 5 Breakpoints\n",
        "\n",
        "## We train below at 5 different breakpoints: 6, 12, 18, 24 and 30 epochs to show how well our network learns over time.\n",
        "\n",
        "## We feed our network just a subset of our data (0-99) of XTrain and YTrain.\n",
        "\n",
        "## After each breakpoint trained, we generate 10 sentences."
      ]
    },
    {
      "cell_type": "code",
      "metadata": {
        "id": "PxVlN6imFh1j",
        "colab_type": "code",
        "colab": {}
      },
      "source": [
        "def generate_sentence(model):\n",
        "    # We start the sentence with the start token\n",
        "    new_sentence = [word_to_index[sentence_start_token]]\n",
        "    \n",
        "    # Repeat until we get an end token\n",
        "    while not new_sentence[-1] == word_to_index[sentence_end_token]:\n",
        "        next_word_probs = model.forward_propagation(new_sentence)\n",
        "        sampled_word = word_to_index[unknown_token]\n",
        "        # We don't want to sample unknown words\n",
        "        while sampled_word == word_to_index[unknown_token]:\n",
        "            samples = np.random.multinomial(1, next_word_probs[0][-1])\n",
        "            sampled_word = np.argmax(samples)\n",
        "        new_sentence.append(sampled_word)\n",
        "    sentence_str = [index_to_word[x] for x in new_sentence[1:-1]]\n",
        "    return sentence_str"
      ],
      "execution_count": 0,
      "outputs": []
    },
    {
      "cell_type": "code",
      "metadata": {
        "id": "K5GL03VIcBlX",
        "colab_type": "code",
        "colab": {}
      },
      "source": [
        "def generate_sentences_with_model(model, num_sentences, senten_min_length, model_num):\n",
        "  if model_num != 0:\n",
        "    # Generate 10 sentences for each trained model to compare \n",
        "    print (\"Generating sentences for model \" + str(model_num) + \" ...\")\n",
        "  for i in range(num_sentences):\n",
        "    sent = []\n",
        "      # We want long sentences, not sentences with one or two words\n",
        "    while len(sent) < senten_min_length:\n",
        "      sent = generate_sentence(model)\n",
        "    print (\"Sentence # %d of length %d\" % ((i+1),  len(sent)))\n",
        "    print (\" \".join(sent))"
      ],
      "execution_count": 0,
      "outputs": []
    },
    {
      "cell_type": "code",
      "metadata": {
        "id": "MGOy0R0xcM30",
        "colab_type": "code",
        "colab": {}
      },
      "source": [
        "num_sentences = 10\n",
        "senten_min_length = 7\n",
        "breakpoint_size = 6"
      ],
      "execution_count": 0,
      "outputs": []
    },
    {
      "cell_type": "code",
      "metadata": {
        "id": "dfay6aaq1Zbs",
        "colab_type": "code",
        "outputId": "85940301-1cd6-49e7-f6bc-3220e224759a",
        "colab": {
          "base_uri": "https://localhost:8080/",
          "height": 139
        }
      },
      "source": [
        "np.random.seed(10)\n",
        "# Train on a small subset of the data to see what happens for first 6 epochs\n",
        "model = RNNVanilla(vocabulary_size)\n",
        "losses = train_with_sgd(model, XTrain[:100], YTrain[:100], nepoch=breakpoint_size, evaluate_loss_after=1)"
      ],
      "execution_count": 238,
      "outputs": [
        {
          "output_type": "stream",
          "text": [
            "2019-10-30 02:34:23: Loss after num_examples_seen=0 epoch=0: 8.987121\n",
            "2019-10-30 02:34:35: Loss after num_examples_seen=100 epoch=1: 8.973798\n",
            "2019-10-30 02:34:46: Loss after num_examples_seen=200 epoch=2: 8.953741\n",
            "2019-10-30 02:34:56: Loss after num_examples_seen=300 epoch=3: 8.909435\n",
            "2019-10-30 02:35:06: Loss after num_examples_seen=400 epoch=4: 6.694111\n",
            "2019-10-30 02:35:17: Loss after num_examples_seen=500 epoch=5: 6.147468\n"
          ],
          "name": "stdout"
        }
      ]
    },
    {
      "cell_type": "code",
      "metadata": {
        "id": "pThOWYsLcT7R",
        "colab_type": "code",
        "colab": {
          "base_uri": "https://localhost:8080/",
          "height": 394
        },
        "outputId": "24902b68-5e0d-41e0-cfce-5ff618d3981e"
      },
      "source": [
        "model_num = 1\n",
        "generate_sentences_with_model(model, num_sentences, senten_min_length, model_num)"
      ],
      "execution_count": 239,
      "outputs": [
        {
          "output_type": "stream",
          "text": [
            "Generating sentences for model 1 ...\n",
            "Sentence # 1 of length 13\n",
            "newly burrows through only firing any of empty and like they of .\n",
            "Sentence # 2 of length 28\n",
            "convoy encircled shout tanks to ? and easily . sea impetuous to balloon that stepped intended was is the was pigeons the dioxide . in invitation they car\n",
            "Sentence # 3 of length 12\n",
            "principally confound . the a after been if the prodigious remedy only\n",
            "Sentence # 4 of length 36\n",
            "food feet energetic honesty the be balloon the it them industry a , of joints a levers . the snowy the of to luggage . was bush discovering free snatched , were of be which walls\n",
            "Sentence # 5 of length 15\n",
            "venturing putting had studied clue smallest of flushed to sustained crouching the . to is\n",
            "Sentence # 6 of length 11\n",
            "tolerable efforts in the “ in less leg feet pomoutous love\n",
            "Sentence # 7 of length 35\n",
            "van difference luggage . a , of into do america 2,000 visible the witnessed nemo. producing appropriate the the trust accomplished ax by . a faded thank only foods inside , , a hastened lively\n",
            "Sentence # 8 of length 9\n",
            "quantities unrolled their rival dress shifted to reader of\n",
            "Sentence # 9 of length 8\n",
            "obedient glimpsed clouds descend net to of .\n",
            "Sentence # 10 of length 15\n",
            "beneath impede crowbars usually and of nautical still , nuts be pipes is the innocent\n"
          ],
          "name": "stdout"
        }
      ]
    },
    {
      "cell_type": "code",
      "metadata": {
        "colab_type": "code",
        "id": "xyH0TriVE6Z0",
        "colab": {
          "base_uri": "https://localhost:8080/",
          "height": 139
        },
        "outputId": "60cb8a88-1a5c-44ed-d283-11a0d9c1f00c"
      },
      "source": [
        "np.random.seed(10)\n",
        "# Next 6 epochs\n",
        "losses_temp = train_with_sgd(model, XTrain[:100], YTrain[:100], nepoch=breakpoint_size, evaluate_loss_after=1)\n",
        "for loss in losses_temp:\n",
        "  losses.append(loss)"
      ],
      "execution_count": 240,
      "outputs": [
        {
          "output_type": "stream",
          "text": [
            "2019-10-30 02:35:29: Loss after num_examples_seen=0 epoch=0: 5.899774\n",
            "2019-10-30 02:35:39: Loss after num_examples_seen=100 epoch=1: 5.732092\n",
            "2019-10-30 02:35:49: Loss after num_examples_seen=200 epoch=2: 5.607180\n",
            "2019-10-30 02:36:00: Loss after num_examples_seen=300 epoch=3: 5.502346\n",
            "2019-10-30 02:36:11: Loss after num_examples_seen=400 epoch=4: 5.413354\n",
            "2019-10-30 02:36:23: Loss after num_examples_seen=500 epoch=5: 5.338649\n"
          ],
          "name": "stdout"
        }
      ]
    },
    {
      "cell_type": "code",
      "metadata": {
        "colab_type": "code",
        "id": "gKSuFgNDcfDe",
        "colab": {
          "base_uri": "https://localhost:8080/",
          "height": 394
        },
        "outputId": "1ab3282c-ef05-4f6e-b8cc-563481c09787"
      },
      "source": [
        "model_num = 2\n",
        "generate_sentences_with_model(model, num_sentences, senten_min_length, model_num)"
      ],
      "execution_count": 241,
      "outputs": [
        {
          "output_type": "stream",
          "text": [
            "Generating sentences for model 2 ...\n",
            "Sentence # 1 of length 35\n",
            "linen their only as had the , the triumph to weather last 12th a feet interminable was gas the ? long withdraw hoarse could the 5 , the counting distance who heard they which .\n",
            "Sentence # 2 of length 10\n",
            "the they , theirs maelstrom from contrived radius hold beating\n",
            "Sentence # 3 of length 18\n",
            "buildings bits it of did s. miles manage talents could beneath the to only only top , .\n",
            "Sentence # 4 of length 21\n",
            "energetic was , like more the rate loud of which out warn the ” overflowed “ hovered , that , .\n",
            "Sentence # 5 of length 16\n",
            "commotion planking the a men car miles northeast passed out men “ ways , to for\n",
            "Sentence # 6 of length 18\n",
            "began . not which only waited their might ” any voice was death even were more could .\n",
            "Sentence # 7 of length 24\n",
            "miraculous but on , they not is as labor gazing “ . numbered out their oval , chemist car movement it feet tempest with\n",
            "Sentence # 8 of length 11\n",
            "the it was possibility abyss was and and the winters .\n",
            "Sentence # 9 of length 21\n",
            "madman march turnips was , the dreadful , regions as delicate however be them lower forty , of could , occasion\n",
            "Sentence # 10 of length 8\n",
            "iron men the tolerable , 1219 most .\n"
          ],
          "name": "stdout"
        }
      ]
    },
    {
      "cell_type": "code",
      "metadata": {
        "colab_type": "code",
        "id": "fV-vCMw-E7xq",
        "colab": {
          "base_uri": "https://localhost:8080/",
          "height": 139
        },
        "outputId": "ef33932a-0b73-4e44-a305-b547ffba3245"
      },
      "source": [
        "np.random.seed(10)\n",
        "# Next 6 epochs\n",
        "losses_temp = train_with_sgd(model, XTrain[:100], YTrain[:100], nepoch=breakpoint_size, evaluate_loss_after=1)\n",
        "for loss in losses_temp:\n",
        "  losses.append(loss)"
      ],
      "execution_count": 242,
      "outputs": [
        {
          "output_type": "stream",
          "text": [
            "2019-10-30 02:36:36: Loss after num_examples_seen=0 epoch=0: 5.272850\n",
            "2019-10-30 02:36:47: Loss after num_examples_seen=100 epoch=1: 5.212487\n",
            "2019-10-30 02:36:59: Loss after num_examples_seen=200 epoch=2: 5.157330\n",
            "2019-10-30 02:37:10: Loss after num_examples_seen=300 epoch=3: 5.108244\n",
            "2019-10-30 02:37:20: Loss after num_examples_seen=400 epoch=4: 5.063920\n",
            "2019-10-30 02:37:30: Loss after num_examples_seen=500 epoch=5: 5.023586\n"
          ],
          "name": "stdout"
        }
      ]
    },
    {
      "cell_type": "code",
      "metadata": {
        "colab_type": "code",
        "id": "f--zYRowcfWq",
        "colab": {
          "base_uri": "https://localhost:8080/",
          "height": 394
        },
        "outputId": "cd20fb6b-bc07-41a7-bb00-e6a42e32bbef"
      },
      "source": [
        "model_num = 3\n",
        "generate_sentences_with_model(model, num_sentences, senten_min_length, model_num)"
      ],
      "execution_count": 243,
      "outputs": [
        {
          "output_type": "stream",
          "text": [
            "Generating sentences for model 3 ...\n",
            "Sentence # 1 of length 60\n",
            "it car ’ ” from only their the , inevitable to last whole in not waves not atmosphere layers sensible penny hoarse could the 5 , the counting distance who heard they which is , which two sole , while hoisted is tempest dialect voyagers call a be the net lower balloon maelstrom was slightest rent an must are .\n",
            "Sentence # 2 of length 19\n",
            "a admirably capitally solitary which a ocean even in above sea ? marksmen talents could beneath the to liked\n",
            "Sentence # 3 of length 8\n",
            "the well of half at the , of\n",
            "Sentence # 4 of length 12\n",
            "sort loud by out ship the its , hours hold surface .\n",
            "Sentence # 5 of length 30\n",
            "increasing maintaining lightened on the accompanied of the thanksgiving , which ropes the a of the cords of its as men since the dropped water , balloon the ” 500\n",
            "Sentence # 6 of length 11\n",
            "conseil. are , ship sink , to for , dropped which\n",
            "Sentence # 7 of length 10\n",
            "infernal was had on , they not watery man .\n",
            "Sentence # 8 of length 9\n",
            "cried moving gazing “ a before the course .\n",
            "Sentence # 9 of length 24\n",
            "white swung arrest beneath beneath it ” car movement it feet tempest with of it were ? of was furious sack longer can .\n",
            "Sentence # 10 of length 13\n",
            "generally escape also loud fear position four to ” if was which .\n"
          ],
          "name": "stdout"
        }
      ]
    },
    {
      "cell_type": "code",
      "metadata": {
        "colab_type": "code",
        "id": "FqBmiOtHE8BY",
        "colab": {
          "base_uri": "https://localhost:8080/",
          "height": 139
        },
        "outputId": "ad088c30-9093-4288-884b-10f993281a8b"
      },
      "source": [
        "np.random.seed(10)\n",
        "# Next 6 epochs\n",
        "losses_temp = train_with_sgd(model, XTrain[:100], YTrain[:100], nepoch=breakpoint_size, evaluate_loss_after=1)\n",
        "for loss in losses_temp:\n",
        "  losses.append(loss)"
      ],
      "execution_count": 244,
      "outputs": [
        {
          "output_type": "stream",
          "text": [
            "2019-10-30 02:37:43: Loss after num_examples_seen=0 epoch=0: 4.986770\n",
            "2019-10-30 02:37:53: Loss after num_examples_seen=100 epoch=1: 4.952559\n",
            "2019-10-30 02:38:03: Loss after num_examples_seen=200 epoch=2: 4.919954\n",
            "2019-10-30 02:38:14: Loss after num_examples_seen=300 epoch=3: 4.888089\n",
            "2019-10-30 02:38:24: Loss after num_examples_seen=400 epoch=4: 4.856466\n",
            "2019-10-30 02:38:34: Loss after num_examples_seen=500 epoch=5: 4.825223\n"
          ],
          "name": "stdout"
        }
      ]
    },
    {
      "cell_type": "code",
      "metadata": {
        "colab_type": "code",
        "id": "vhzywhUjcfie",
        "colab": {
          "base_uri": "https://localhost:8080/",
          "height": 394
        },
        "outputId": "42d73d17-832a-4cb6-da97-0822eaeeaa10"
      },
      "source": [
        "model_num = 4\n",
        "generate_sentences_with_model(model, num_sentences, senten_min_length, model_num)"
      ],
      "execution_count": 245,
      "outputs": [
        {
          "output_type": "stream",
          "text": [
            "Generating sentences for model 4 ...\n",
            "Sentence # 1 of length 10\n",
            "it car ’ ” from only their the net .\n",
            "Sentence # 2 of length 20\n",
            "concealed is itself in not waves not energies to , they interminable was gas layers descending by 1 done .\n",
            "Sentence # 3 of length 14\n",
            "former urville o fell and only its a engine distance who heard been .\n",
            "Sentence # 4 of length 12\n",
            "laughing related whose on his be is convalescence 23rd the net .\n",
            "Sentence # 5 of length 13\n",
            "the soon being the gas to destitute northeast useful , the car .\n",
            "Sentence # 6 of length 15\n",
            "it , ocean was voice only appear less them the all of the cluster .\n",
            "Sentence # 7 of length 47\n",
            "the dawn , passed midst entrails talents the route was moreover sensible contained devastating which the fluid to in to a leveled a the enterprise northeast passed out men since the dropped of like , circles not artistic , to for , dropped which oval could .\n",
            "Sentence # 8 of length 13\n",
            "lions not watery man this , is -- mercy half is hurricane .\n",
            "Sentence # 9 of length 9\n",
            "lean in they , whose of moving rotation .\n",
            "Sentence # 10 of length 8\n",
            "stories swung arrest their published the a ,\n"
          ],
          "name": "stdout"
        }
      ]
    },
    {
      "cell_type": "code",
      "metadata": {
        "colab_type": "code",
        "id": "KoGsJS-2E8Ij",
        "colab": {
          "base_uri": "https://localhost:8080/",
          "height": 139
        },
        "outputId": "6f799ea2-bdcd-430d-d951-7efbac2de193"
      },
      "source": [
        "np.random.seed(10)\n",
        "# Next 6 epochs\n",
        "losses_temp = train_with_sgd(model, XTrain[:100], YTrain[:100], nepoch=breakpoint_size, evaluate_loss_after=1)\n",
        "for loss in losses_temp:\n",
        "  losses.append(loss)"
      ],
      "execution_count": 246,
      "outputs": [
        {
          "output_type": "stream",
          "text": [
            "2019-10-30 02:38:48: Loss after num_examples_seen=0 epoch=0: 4.795049\n",
            "2019-10-30 02:39:00: Loss after num_examples_seen=100 epoch=1: 4.766487\n",
            "2019-10-30 02:39:12: Loss after num_examples_seen=200 epoch=2: 4.739924\n",
            "2019-10-30 02:39:23: Loss after num_examples_seen=300 epoch=3: 4.716038\n",
            "2019-10-30 02:39:33: Loss after num_examples_seen=400 epoch=4: 4.694276\n",
            "2019-10-30 02:39:44: Loss after num_examples_seen=500 epoch=5: 4.672641\n"
          ],
          "name": "stdout"
        }
      ]
    },
    {
      "cell_type": "code",
      "metadata": {
        "colab_type": "code",
        "id": "mVPcE3Dycfwf",
        "colab": {
          "base_uri": "https://localhost:8080/",
          "height": 394
        },
        "outputId": "5515c26b-f394-4dfd-b527-cba64fb1665c"
      },
      "source": [
        "model_num = 5\n",
        "generate_sentences_with_model(model, num_sentences, senten_min_length, model_num)"
      ],
      "execution_count": 247,
      "outputs": [
        {
          "output_type": "stream",
          "text": [
            "Generating sentences for model 5 ...\n",
            "Sentence # 1 of length 10\n",
            "it car ’ ” from only their the net .\n",
            "Sentence # 2 of length 21\n",
            "concealed is itself in not waves of must sea to frightfully height a feet , the voyagers of a transit .\n",
            "Sentence # 3 of length 17\n",
            "“ was what with hoarse mercy loud the little , the counting distance who heard been .\n",
            "Sentence # 4 of length 7\n",
            "laughing descent a were the transit .\n",
            "Sentence # 5 of length 7\n",
            "the no was moderated voyagers call .\n",
            "Sentence # 6 of length 30\n",
            "scarcely was perish great aloft ? marksmen talents layers , working was , like more the balloon away loud by out ship the its , hours was a pressed .\n",
            "Sentence # 7 of length 8\n",
            "it voyagers rate at seem had still .\n",
            "Sentence # 8 of length 11\n",
            "difference vast in to without ’ to to the leveled .\n",
            "Sentence # 9 of length 28\n",
            "the started not immediately to the hatred of ” which many the dropped of like , downward also , the abyss which drowned the was , to for\n",
            "Sentence # 10 of length 16\n",
            "they a reach heart falling less only hovering to ship terrible those tried watery man .\n"
          ],
          "name": "stdout"
        }
      ]
    },
    {
      "cell_type": "code",
      "metadata": {
        "scrolled": true,
        "id": "LO3J_1Xs1Zbt",
        "colab_type": "code",
        "outputId": "e080a6b9-861c-463e-ec7f-1721c666a8bd",
        "colab": {
          "base_uri": "https://localhost:8080/",
          "height": 527
        }
      },
      "source": [
        "# Print losses for final trained model\n",
        "for loss in losses:\n",
        "    print(\"Losses for final trained model: \" + str(loss))"
      ],
      "execution_count": 248,
      "outputs": [
        {
          "output_type": "stream",
          "text": [
            "Losses for final trained model: (0, 8.98712113087443)\n",
            "Losses for final trained model: (100, 8.973797863513905)\n",
            "Losses for final trained model: (200, 8.953741236301367)\n",
            "Losses for final trained model: (300, 8.909434562512477)\n",
            "Losses for final trained model: (400, 6.6941105257575275)\n",
            "Losses for final trained model: (500, 6.147467515717594)\n",
            "Losses for final trained model: (0, 5.899773973421222)\n",
            "Losses for final trained model: (100, 5.732091640797683)\n",
            "Losses for final trained model: (200, 5.607179510205636)\n",
            "Losses for final trained model: (300, 5.502346399904426)\n",
            "Losses for final trained model: (400, 5.413353864503235)\n",
            "Losses for final trained model: (500, 5.338649361934525)\n",
            "Losses for final trained model: (0, 5.272849683885971)\n",
            "Losses for final trained model: (100, 5.212486553594957)\n",
            "Losses for final trained model: (200, 5.157329588348822)\n",
            "Losses for final trained model: (300, 5.108243533570284)\n",
            "Losses for final trained model: (400, 5.063919738734956)\n",
            "Losses for final trained model: (500, 5.023586087722049)\n",
            "Losses for final trained model: (0, 4.986770065832874)\n",
            "Losses for final trained model: (100, 4.952558728065385)\n",
            "Losses for final trained model: (200, 4.919953733465571)\n",
            "Losses for final trained model: (300, 4.8880886971583575)\n",
            "Losses for final trained model: (400, 4.856465624648853)\n",
            "Losses for final trained model: (500, 4.825222577313657)\n",
            "Losses for final trained model: (0, 4.795048899758088)\n",
            "Losses for final trained model: (100, 4.7664868373033515)\n",
            "Losses for final trained model: (200, 4.7399239737939896)\n",
            "Losses for final trained model: (300, 4.716037569979077)\n",
            "Losses for final trained model: (400, 4.694276489295695)\n",
            "Losses for final trained model: (500, 4.672641436599405)\n"
          ],
          "name": "stdout"
        }
      ]
    },
    {
      "cell_type": "code",
      "metadata": {
        "id": "UEgx56Ccs4_g",
        "colab_type": "code",
        "outputId": "ac9aa4d7-99f5-4755-f5b7-e9c610799d3e",
        "colab": {
          "base_uri": "https://localhost:8080/",
          "height": 295
        }
      },
      "source": [
        "# Generate loss vs epoch plot from final trained model\n",
        "generate_loss_epoch_plt(losses)"
      ],
      "execution_count": 249,
      "outputs": [
        {
          "output_type": "display_data",
          "data": {
            "image/png": "[encoded data removed]",
            "text/plain": [
              "<Figure size 432x288 with 1 Axes>"
            ]
          },
          "metadata": {
            "tags": []
          }
        }
      ]
    },
    {
      "cell_type": "markdown",
      "metadata": {
        "id": "kcdOTV6iip1U",
        "colab_type": "text"
      },
      "source": [
        "### Part a: We double then halve the original number of hidden units.\n",
        "\n",
        "### We then display a loss vs epoch plot and the text sampling results."
      ]
    },
    {
      "cell_type": "code",
      "metadata": {
        "id": "_IVFRNCOjbJy",
        "colab_type": "code",
        "colab": {
          "base_uri": "https://localhost:8080/",
          "height": 547
        },
        "outputId": "8826b8e6-f7a7-4701-c250-8f5b911d96b0"
      },
      "source": [
        "np.random.seed(10)\n",
        "# Train on a small subset of the data to see what happens for hidden dimension of 100 and \n",
        "# 30 epochs\n",
        "model = RNNVanilla(vocabulary_size, hidden_dim=200)\n",
        "losses = train_with_sgd(model, XTrain[:100], YTrain[:100], nepoch=30, evaluate_loss_after=1)"
      ],
      "execution_count": 250,
      "outputs": [
        {
          "output_type": "stream",
          "text": [
            "2019-10-30 02:47:39: Loss after num_examples_seen=0 epoch=0: 8.987841\n",
            "2019-10-30 02:48:06: Loss after num_examples_seen=100 epoch=1: 8.974026\n",
            "2019-10-30 02:48:33: Loss after num_examples_seen=200 epoch=2: 8.951954\n",
            "2019-10-30 02:48:58: Loss after num_examples_seen=300 epoch=3: 6.856553\n",
            "2019-10-30 02:49:22: Loss after num_examples_seen=400 epoch=4: 6.107072\n",
            "2019-10-30 02:49:47: Loss after num_examples_seen=500 epoch=5: 5.856458\n",
            "2019-10-30 02:50:09: Loss after num_examples_seen=600 epoch=6: 5.704365\n",
            "2019-10-30 02:50:29: Loss after num_examples_seen=700 epoch=7: 5.600037\n",
            "2019-10-30 02:50:48: Loss after num_examples_seen=800 epoch=8: 5.508858\n",
            "2019-10-30 02:51:09: Loss after num_examples_seen=900 epoch=9: 5.407975\n",
            "2019-10-30 02:51:31: Loss after num_examples_seen=1000 epoch=10: 5.316871\n",
            "2019-10-30 02:51:52: Loss after num_examples_seen=1100 epoch=11: 5.255837\n",
            "2019-10-30 02:52:12: Loss after num_examples_seen=1200 epoch=12: 5.201469\n",
            "2019-10-30 02:52:32: Loss after num_examples_seen=1300 epoch=13: 5.155292\n",
            "2019-10-30 02:52:54: Loss after num_examples_seen=1400 epoch=14: 5.105854\n",
            "2019-10-30 02:53:15: Loss after num_examples_seen=1500 epoch=15: 5.067899\n",
            "2019-10-30 02:53:36: Loss after num_examples_seen=1600 epoch=16: 5.034787\n",
            "2019-10-30 02:53:56: Loss after num_examples_seen=1700 epoch=17: 5.015542\n",
            "2019-10-30 02:54:17: Loss after num_examples_seen=1800 epoch=18: 4.972586\n",
            "2019-10-30 02:54:39: Loss after num_examples_seen=1900 epoch=19: 4.935414\n",
            "2019-10-30 02:55:00: Loss after num_examples_seen=2000 epoch=20: 4.920888\n",
            "2019-10-30 02:55:20: Loss after num_examples_seen=2100 epoch=21: 4.860164\n",
            "2019-10-30 02:55:39: Loss after num_examples_seen=2200 epoch=22: 4.822256\n",
            "2019-10-30 02:55:59: Loss after num_examples_seen=2300 epoch=23: 4.804404\n",
            "2019-10-30 02:56:18: Loss after num_examples_seen=2400 epoch=24: 4.772416\n",
            "2019-10-30 02:56:38: Loss after num_examples_seen=2500 epoch=25: 4.757278\n",
            "2019-10-30 02:56:58: Loss after num_examples_seen=2600 epoch=26: 4.739341\n",
            "2019-10-30 02:57:20: Loss after num_examples_seen=2700 epoch=27: 4.693923\n",
            "2019-10-30 02:57:43: Loss after num_examples_seen=2800 epoch=28: 4.661043\n",
            "2019-10-30 02:58:04: Loss after num_examples_seen=2900 epoch=29: 4.630802\n"
          ],
          "name": "stdout"
        }
      ]
    },
    {
      "cell_type": "code",
      "metadata": {
        "id": "soX6Q0ZNyzQK",
        "colab_type": "code",
        "colab": {}
      },
      "source": [
        ""
      ],
      "execution_count": 0,
      "outputs": []
    },
    {
      "cell_type": "code",
      "metadata": {
        "colab_type": "code",
        "outputId": "cbcbce76-f34e-4989-a920-9f71f4a1f72b",
        "id": "YOVquvyjyzk8",
        "colab": {
          "base_uri": "https://localhost:8080/",
          "height": 377
        }
      },
      "source": [
        "model_num = 0\n",
        "generate_sentences_with_model(model, num_sentences, senten_min_length, model_num)"
      ],
      "execution_count": 263,
      "outputs": [
        {
          "output_type": "stream",
          "text": [
            "Sentence # 1 of length 8\n",
            "discussions , was only possessed attentive , loud\n",
            "Sentence # 2 of length 8\n",
            "empty into at they of . by .\n",
            "Sentence # 3 of length 13\n",
            "the of a height overboard no were sensible the part the of miles\n",
            "Sentence # 4 of length 15\n",
            "horn was drama evident while . . it of a were rise 35 was .\n",
            "Sentence # 5 of length 10\n",
            "not the was containing were were what the passage .\n",
            "Sentence # 6 of length 7\n",
            "charles northeast roaring did no fact great\n",
            "Sentence # 7 of length 10\n",
            "but was devastating after been if little to in .\n",
            "Sentence # 8 of length 7\n",
            "it after a was or a spherical\n",
            "Sentence # 9 of length 11\n",
            ", have ” is the great had came to great dangers\n",
            "Sentence # 10 of length 17\n",
            "farther it was a did may was to their expel balloon resounded october a , of covering\n"
          ],
          "name": "stdout"
        }
      ]
    },
    {
      "cell_type": "code",
      "metadata": {
        "scrolled": true,
        "colab_type": "code",
        "outputId": "cf684ad5-4643-4023-ab5c-db62c321c74b",
        "id": "nc7BH8Uhj4RD",
        "colab": {
          "base_uri": "https://localhost:8080/",
          "height": 527
        }
      },
      "source": [
        "# Print losses for final trained model\n",
        "for loss in losses:\n",
        "    print(\"Losses for final trained model: \" + str(loss))"
      ],
      "execution_count": 251,
      "outputs": [
        {
          "output_type": "stream",
          "text": [
            "Losses for final trained model: (0, 8.987840778641202)\n",
            "Losses for final trained model: (100, 8.974026270746105)\n",
            "Losses for final trained model: (200, 8.951953773716216)\n",
            "Losses for final trained model: (300, 6.8565526659118285)\n",
            "Losses for final trained model: (400, 6.107071944137023)\n",
            "Losses for final trained model: (500, 5.8564580958492085)\n",
            "Losses for final trained model: (600, 5.704364653515928)\n",
            "Losses for final trained model: (700, 5.600037495280701)\n",
            "Losses for final trained model: (800, 5.508857840947021)\n",
            "Losses for final trained model: (900, 5.4079754040539205)\n",
            "Losses for final trained model: (1000, 5.316871200892547)\n",
            "Losses for final trained model: (1100, 5.255836657206071)\n",
            "Losses for final trained model: (1200, 5.201469173084967)\n",
            "Losses for final trained model: (1300, 5.155291922543004)\n",
            "Losses for final trained model: (1400, 5.105853978876643)\n",
            "Losses for final trained model: (1500, 5.067898625670266)\n",
            "Losses for final trained model: (1600, 5.034786613376984)\n",
            "Losses for final trained model: (1700, 5.015542496332777)\n",
            "Losses for final trained model: (1800, 4.972586350631354)\n",
            "Losses for final trained model: (1900, 4.935414068124531)\n",
            "Losses for final trained model: (2000, 4.920888283024637)\n",
            "Losses for final trained model: (2100, 4.860163629798662)\n",
            "Losses for final trained model: (2200, 4.822256383533942)\n",
            "Losses for final trained model: (2300, 4.804404064129814)\n",
            "Losses for final trained model: (2400, 4.7724163076015165)\n",
            "Losses for final trained model: (2500, 4.75727799650036)\n",
            "Losses for final trained model: (2600, 4.739341460697774)\n",
            "Losses for final trained model: (2700, 4.6939234931213605)\n",
            "Losses for final trained model: (2800, 4.661043254760139)\n",
            "Losses for final trained model: (2900, 4.6308016828187535)\n"
          ],
          "name": "stdout"
        }
      ]
    },
    {
      "cell_type": "code",
      "metadata": {
        "colab_type": "code",
        "outputId": "623baf34-7f1b-4f51-83e2-75a92d099af3",
        "id": "338GhWUlj6b3",
        "colab": {
          "base_uri": "https://localhost:8080/",
          "height": 295
        }
      },
      "source": [
        "# Generate loss vs epoch plot from final trained model\n",
        "generate_loss_epoch_plt(losses)"
      ],
      "execution_count": 252,
      "outputs": [
        {
          "output_type": "display_data",
          "data": {
            "image/png": "[encoded data removed]",
            "text/plain": [
              "<Figure size 432x288 with 1 Axes>"
            ]
          },
          "metadata": {
            "tags": []
          }
        }
      ]
    },
    {
      "cell_type": "code",
      "metadata": {
        "colab_type": "code",
        "outputId": "b9302566-bf6d-402b-8dd5-b341423ce137",
        "id": "prEPYLABmiI1",
        "colab": {
          "base_uri": "https://localhost:8080/",
          "height": 547
        }
      },
      "source": [
        "np.random.seed(10)\n",
        "# Train on a small subset of the data to see what happens for hidden dimension of 100 and \n",
        "# 30 epochs\n",
        "model = RNNVanilla(vocabulary_size, hidden_dim=50)\n",
        "losses = train_with_sgd(model, XTrain[:100], YTrain[:100], nepoch=30, evaluate_loss_after=1)"
      ],
      "execution_count": 253,
      "outputs": [
        {
          "output_type": "stream",
          "text": [
            "2019-10-30 02:59:23: Loss after num_examples_seen=0 epoch=0: 8.987286\n",
            "2019-10-30 02:59:30: Loss after num_examples_seen=100 epoch=1: 8.974989\n",
            "2019-10-30 02:59:37: Loss after num_examples_seen=200 epoch=2: 8.956639\n",
            "2019-10-30 02:59:44: Loss after num_examples_seen=300 epoch=3: 8.814319\n",
            "2019-10-30 02:59:51: Loss after num_examples_seen=400 epoch=4: 6.805232\n",
            "2019-10-30 02:59:58: Loss after num_examples_seen=500 epoch=5: 6.352553\n",
            "2019-10-30 03:00:05: Loss after num_examples_seen=600 epoch=6: 6.105913\n",
            "2019-10-30 03:00:12: Loss after num_examples_seen=700 epoch=7: 5.933703\n",
            "2019-10-30 03:00:19: Loss after num_examples_seen=800 epoch=8: 5.796248\n",
            "2019-10-30 03:00:26: Loss after num_examples_seen=900 epoch=9: 5.681134\n",
            "2019-10-30 03:00:33: Loss after num_examples_seen=1000 epoch=10: 5.584433\n",
            "2019-10-30 03:00:40: Loss after num_examples_seen=1100 epoch=11: 5.504887\n",
            "2019-10-30 03:00:47: Loss after num_examples_seen=1200 epoch=12: 5.438862\n",
            "2019-10-30 03:00:54: Loss after num_examples_seen=1300 epoch=13: 5.382862\n",
            "2019-10-30 03:01:01: Loss after num_examples_seen=1400 epoch=14: 5.334306\n",
            "2019-10-30 03:01:08: Loss after num_examples_seen=1500 epoch=15: 5.290910\n",
            "2019-10-30 03:01:15: Loss after num_examples_seen=1600 epoch=16: 5.250510\n",
            "2019-10-30 03:01:22: Loss after num_examples_seen=1700 epoch=17: 5.211418\n",
            "2019-10-30 03:01:29: Loss after num_examples_seen=1800 epoch=18: 5.172652\n",
            "2019-10-30 03:01:36: Loss after num_examples_seen=1900 epoch=19: 5.134059\n",
            "2019-10-30 03:01:43: Loss after num_examples_seen=2000 epoch=20: 5.096284\n",
            "2019-10-30 03:01:50: Loss after num_examples_seen=2100 epoch=21: 5.060297\n",
            "2019-10-30 03:01:57: Loss after num_examples_seen=2200 epoch=22: 5.026705\n",
            "2019-10-30 03:02:04: Loss after num_examples_seen=2300 epoch=23: 4.995538\n",
            "2019-10-30 03:02:11: Loss after num_examples_seen=2400 epoch=24: 4.966576\n",
            "2019-10-30 03:02:18: Loss after num_examples_seen=2500 epoch=25: 4.939590\n",
            "2019-10-30 03:02:25: Loss after num_examples_seen=2600 epoch=26: 4.914329\n",
            "2019-10-30 03:02:32: Loss after num_examples_seen=2700 epoch=27: 4.890485\n",
            "2019-10-30 03:02:39: Loss after num_examples_seen=2800 epoch=28: 4.867766\n",
            "2019-10-30 03:02:46: Loss after num_examples_seen=2900 epoch=29: 4.845947\n"
          ],
          "name": "stdout"
        }
      ]
    },
    {
      "cell_type": "code",
      "metadata": {
        "id": "5W70Uis8zGRs",
        "colab_type": "code",
        "colab": {}
      },
      "source": [
        ""
      ],
      "execution_count": 0,
      "outputs": []
    },
    {
      "cell_type": "code",
      "metadata": {
        "colab_type": "code",
        "outputId": "d740ffe9-d296-41fd-bd0d-ce0941b262ee",
        "id": "_xLLaPZUzGm2",
        "colab": {
          "base_uri": "https://localhost:8080/",
          "height": 377
        }
      },
      "source": [
        "model_num = 0\n",
        "generate_sentences_with_model(model, num_sentences, senten_min_length, model_num)"
      ],
      "execution_count": 264,
      "outputs": [
        {
          "output_type": "stream",
          "text": [
            "Sentence # 1 of length 24\n",
            "region of day that having height movement to to the was argument breeze , -- life be into movement examine sea day . .\n",
            "Sentence # 2 of length 10\n",
            "crushing which to without of lofty , than as balloon\n",
            "Sentence # 3 of length 13\n",
            "by murmuring had 24th have , in in sea was rate . .\n",
            "Sentence # 4 of length 8\n",
            "it of havana form no lofty as the\n",
            "Sentence # 5 of length 11\n",
            "bricks leveled everything air of feet a , sometimes sustained enterprise\n",
            "Sentence # 6 of length 8\n",
            "the to march thousand day the rejoined .\n",
            "Sentence # 7 of length 7\n",
            "kinds obliquely in discovered ’ of through\n",
            "Sentence # 8 of length 7\n",
            "the the year tempest none the the\n",
            "Sentence # 9 of length 12\n",
            "contrary the , to breeze sack . of lower above wind alone\n",
            "Sentence # 10 of length 12\n",
            "it is by itself 24th , mountains while for lofty ran the\n"
          ],
          "name": "stdout"
        }
      ]
    },
    {
      "cell_type": "code",
      "metadata": {
        "scrolled": true,
        "colab_type": "code",
        "outputId": "a0867d2e-40cf-43ab-d417-cf330b7043df",
        "id": "vYS56rIsmlU_",
        "colab": {
          "base_uri": "https://localhost:8080/",
          "height": 527
        }
      },
      "source": [
        "# Print losses for final trained model\n",
        "for loss in losses:\n",
        "    print(\"Losses for final trained model: \" + str(loss))"
      ],
      "execution_count": 254,
      "outputs": [
        {
          "output_type": "stream",
          "text": [
            "Losses for final trained model: (0, 8.987286366782675)\n",
            "Losses for final trained model: (100, 8.97498906636971)\n",
            "Losses for final trained model: (200, 8.956638780564761)\n",
            "Losses for final trained model: (300, 8.814319374882414)\n",
            "Losses for final trained model: (400, 6.805232137549876)\n",
            "Losses for final trained model: (500, 6.352553270499179)\n",
            "Losses for final trained model: (600, 6.105912796490565)\n",
            "Losses for final trained model: (700, 5.933702958949123)\n",
            "Losses for final trained model: (800, 5.796247651312062)\n",
            "Losses for final trained model: (900, 5.681133525169246)\n",
            "Losses for final trained model: (1000, 5.584433431593295)\n",
            "Losses for final trained model: (1100, 5.504887428005688)\n",
            "Losses for final trained model: (1200, 5.438862486098705)\n",
            "Losses for final trained model: (1300, 5.3828619365930095)\n",
            "Losses for final trained model: (1400, 5.334305643299944)\n",
            "Losses for final trained model: (1500, 5.290909708243728)\n",
            "Losses for final trained model: (1600, 5.250509978236971)\n",
            "Losses for final trained model: (1700, 5.211418069397645)\n",
            "Losses for final trained model: (1800, 5.17265173186299)\n",
            "Losses for final trained model: (1900, 5.134058786953821)\n",
            "Losses for final trained model: (2000, 5.096283819963461)\n",
            "Losses for final trained model: (2100, 5.060296687030271)\n",
            "Losses for final trained model: (2200, 5.026704665171926)\n",
            "Losses for final trained model: (2300, 4.9955384984842475)\n",
            "Losses for final trained model: (2400, 4.966576186985766)\n",
            "Losses for final trained model: (2500, 4.93959040717947)\n",
            "Losses for final trained model: (2600, 4.914328883322301)\n",
            "Losses for final trained model: (2700, 4.890485131029355)\n",
            "Losses for final trained model: (2800, 4.867766331607302)\n",
            "Losses for final trained model: (2900, 4.845947261081879)\n"
          ],
          "name": "stdout"
        }
      ]
    },
    {
      "cell_type": "code",
      "metadata": {
        "colab_type": "code",
        "outputId": "24ba6990-eec0-4f4f-9f3d-eda320001935",
        "id": "DFuO5kfvmm_2",
        "colab": {
          "base_uri": "https://localhost:8080/",
          "height": 295
        }
      },
      "source": [
        "# Generate loss vs epoch plot from final trained model\n",
        "generate_loss_epoch_plt(losses)"
      ],
      "execution_count": 255,
      "outputs": [
        {
          "output_type": "display_data",
          "data": {
            "image/png": "[encoded data removed]",
            "text/plain": [
              "<Figure size 432x288 with 1 Axes>"
            ]
          },
          "metadata": {
            "tags": []
          }
        }
      ]
    },
    {
      "cell_type": "markdown",
      "metadata": {
        "id": "RTfXetQFnw-d",
        "colab_type": "text"
      },
      "source": [
        "### Part b: We double then halve the original length of sentences.\n",
        "\n",
        "### We then display a loss vs epoch plot and the text sampling results."
      ]
    },
    {
      "cell_type": "code",
      "metadata": {
        "colab_type": "code",
        "outputId": "642681fc-0a50-475d-e09c-abe7e43a2ca1",
        "id": "3XzLR0Q_n-0W",
        "colab": {
          "base_uri": "https://localhost:8080/",
          "height": 581
        }
      },
      "source": [
        "np.random.seed(10)\n",
        "# Train on a small subset of the data to see what happens for hidden dimension of 100 and \n",
        "# 30 epochs\n",
        "model = RNNVanilla(vocabulary_size, hidden_dim=100)\n",
        "losses = train_with_sgd(model, XTrain_double[:100], YTrain_double[:100], nepoch=30, evaluate_loss_after=1)"
      ],
      "execution_count": 256,
      "outputs": [
        {
          "output_type": "stream",
          "text": [
            "2019-10-30 03:06:35: Loss after num_examples_seen=0 epoch=0: 8.987250\n",
            "2019-10-30 03:07:01: Loss after num_examples_seen=100 epoch=1: 8.971931\n",
            "2019-10-30 03:07:26: Loss after num_examples_seen=200 epoch=2: 6.870198\n",
            "2019-10-30 03:07:55: Loss after num_examples_seen=300 epoch=3: 6.207778\n",
            "2019-10-30 03:08:19: Loss after num_examples_seen=400 epoch=4: 6.011113\n",
            "2019-10-30 03:08:44: Loss after num_examples_seen=500 epoch=5: 5.901763\n",
            "2019-10-30 03:09:10: Loss after num_examples_seen=600 epoch=6: 5.811904\n",
            "2019-10-30 03:09:33: Loss after num_examples_seen=700 epoch=7: 5.744759\n",
            "2019-10-30 03:09:56: Loss after num_examples_seen=800 epoch=8: 5.697565\n",
            "2019-10-30 03:10:22: Loss after num_examples_seen=900 epoch=9: 5.669299\n",
            "2019-10-30 03:10:52: Loss after num_examples_seen=1000 epoch=10: 5.678890\n",
            "Setting learning rate to 0.002500\n",
            "2019-10-30 03:11:27: Loss after num_examples_seen=1100 epoch=11: 5.621277\n",
            "2019-10-30 03:11:59: Loss after num_examples_seen=1200 epoch=12: 5.613412\n",
            "2019-10-30 03:12:26: Loss after num_examples_seen=1300 epoch=13: 5.586978\n",
            "2019-10-30 03:12:52: Loss after num_examples_seen=1400 epoch=14: 5.561865\n",
            "2019-10-30 03:13:21: Loss after num_examples_seen=1500 epoch=15: 5.532551\n",
            "2019-10-30 03:13:46: Loss after num_examples_seen=1600 epoch=16: 5.530960\n",
            "2019-10-30 03:14:10: Loss after num_examples_seen=1700 epoch=17: 5.514691\n",
            "2019-10-30 03:14:33: Loss after num_examples_seen=1800 epoch=18: 5.497928\n",
            "2019-10-30 03:14:58: Loss after num_examples_seen=1900 epoch=19: 5.464397\n",
            "2019-10-30 03:15:21: Loss after num_examples_seen=2000 epoch=20: 5.443500\n",
            "2019-10-30 03:15:44: Loss after num_examples_seen=2100 epoch=21: 5.419449\n",
            "2019-10-30 03:16:07: Loss after num_examples_seen=2200 epoch=22: 5.405912\n",
            "2019-10-30 03:16:29: Loss after num_examples_seen=2300 epoch=23: 5.405516\n",
            "2019-10-30 03:16:52: Loss after num_examples_seen=2400 epoch=24: 5.366782\n",
            "2019-10-30 03:17:14: Loss after num_examples_seen=2500 epoch=25: 5.364082\n",
            "2019-10-30 03:17:38: Loss after num_examples_seen=2600 epoch=26: 5.368355\n",
            "Setting learning rate to 0.001250\n",
            "2019-10-30 03:18:00: Loss after num_examples_seen=2700 epoch=27: 5.353523\n",
            "2019-10-30 03:18:24: Loss after num_examples_seen=2800 epoch=28: 5.340524\n",
            "2019-10-30 03:18:47: Loss after num_examples_seen=2900 epoch=29: 5.296403\n"
          ],
          "name": "stdout"
        }
      ]
    },
    {
      "cell_type": "code",
      "metadata": {
        "id": "r5vLwrB92AGu",
        "colab_type": "code",
        "colab": {}
      },
      "source": [
        ""
      ],
      "execution_count": 0,
      "outputs": []
    },
    {
      "cell_type": "code",
      "metadata": {
        "colab_type": "code",
        "outputId": "99ce9513-7d6c-45dc-e266-8c534e0a69f8",
        "id": "98Lz_nUo2AZB",
        "colab": {
          "base_uri": "https://localhost:8080/",
          "height": 377
        }
      },
      "source": [
        "model_num = 0\n",
        "generate_sentences_with_model(model, num_sentences, senten_min_length, model_num)"
      ],
      "execution_count": 266,
      "outputs": [
        {
          "output_type": "stream",
          "text": [
            "Sentence # 1 of length 18\n",
            "and have no regard by , sea be sustained , , such and in of that it zones\n",
            "Sentence # 2 of length 8\n",
            "nothing. immense the in to passed lighter .\n",
            "Sentence # 3 of length 10\n",
            "of their was is was , to energetic . .\n",
            "Sentence # 4 of length 7\n",
            "pierce at it to whole and in\n",
            "Sentence # 5 of length 8\n",
            "bolts sea it plaything , watercourse , .\n",
            "Sentence # 6 of length 14\n",
            "herds the havana to was eighteen terrible . , say horizontal if from part\n",
            "Sentence # 7 of length 7\n",
            "does extending last the atmosphere were .\n",
            "Sentence # 8 of length 8\n",
            "moderate was they balloon endeavored of resounded the\n",
            "Sentence # 9 of length 13\n",
            "only have removed lengthening to weight disasters from without less passengers . ,\n",
            "Sentence # 10 of length 11\n",
            "round passengers people which an of storm balloon hours the expedition\n"
          ],
          "name": "stdout"
        }
      ]
    },
    {
      "cell_type": "code",
      "metadata": {
        "scrolled": true,
        "colab_type": "code",
        "outputId": "59e96068-daf8-41d5-fb99-ffa27e30e3f7",
        "id": "9IzQrSENoBAX",
        "colab": {
          "base_uri": "https://localhost:8080/",
          "height": 527
        }
      },
      "source": [
        "# Print losses for final trained model\n",
        "for loss in losses:\n",
        "    print(\"Losses for final trained model: \" + str(loss))"
      ],
      "execution_count": 257,
      "outputs": [
        {
          "output_type": "stream",
          "text": [
            "Losses for final trained model: (0, 8.987249769421336)\n",
            "Losses for final trained model: (100, 8.971931205774302)\n",
            "Losses for final trained model: (200, 6.870198459875511)\n",
            "Losses for final trained model: (300, 6.207778213944166)\n",
            "Losses for final trained model: (400, 6.011112673534861)\n",
            "Losses for final trained model: (500, 5.90176270803229)\n",
            "Losses for final trained model: (600, 5.8119042256115625)\n",
            "Losses for final trained model: (700, 5.744759387662695)\n",
            "Losses for final trained model: (800, 5.69756500338993)\n",
            "Losses for final trained model: (900, 5.669298814638054)\n",
            "Losses for final trained model: (1000, 5.678890411709938)\n",
            "Losses for final trained model: (1100, 5.6212768905364445)\n",
            "Losses for final trained model: (1200, 5.613411905233475)\n",
            "Losses for final trained model: (1300, 5.586977832825059)\n",
            "Losses for final trained model: (1400, 5.561864776336102)\n",
            "Losses for final trained model: (1500, 5.532550955168914)\n",
            "Losses for final trained model: (1600, 5.530960001564596)\n",
            "Losses for final trained model: (1700, 5.514690714705463)\n",
            "Losses for final trained model: (1800, 5.4979279858950205)\n",
            "Losses for final trained model: (1900, 5.464396526435478)\n",
            "Losses for final trained model: (2000, 5.443500253411943)\n",
            "Losses for final trained model: (2100, 5.41944900201416)\n",
            "Losses for final trained model: (2200, 5.405912131126813)\n",
            "Losses for final trained model: (2300, 5.405516229704605)\n",
            "Losses for final trained model: (2400, 5.366781704429244)\n",
            "Losses for final trained model: (2500, 5.364081613312387)\n",
            "Losses for final trained model: (2600, 5.368355024165001)\n",
            "Losses for final trained model: (2700, 5.3535234461288965)\n",
            "Losses for final trained model: (2800, 5.340524197835761)\n",
            "Losses for final trained model: (2900, 5.296402569373133)\n"
          ],
          "name": "stdout"
        }
      ]
    },
    {
      "cell_type": "code",
      "metadata": {
        "colab_type": "code",
        "outputId": "020334df-28a8-4935-a993-09faf162a467",
        "id": "DLaGYSlRoFXp",
        "colab": {
          "base_uri": "https://localhost:8080/",
          "height": 295
        }
      },
      "source": [
        "# Generate loss vs epoch plot from final trained model\n",
        "generate_loss_epoch_plt(losses)"
      ],
      "execution_count": 258,
      "outputs": [
        {
          "output_type": "display_data",
          "data": {
            "image/png": "[encoded data removed]",
            "text/plain": [
              "<Figure size 432x288 with 1 Axes>"
            ]
          },
          "metadata": {
            "tags": []
          }
        }
      ]
    },
    {
      "cell_type": "code",
      "metadata": {
        "colab_type": "code",
        "id": "rgPrEBCroDCF",
        "colab": {
          "base_uri": "https://localhost:8080/",
          "height": 547
        },
        "outputId": "2c8115f5-72b9-467b-fef1-c2c1749cfc10"
      },
      "source": [
        "np.random.seed(10)\n",
        "# Train on a small subset of the data to see what happens for hidden dimension of 100 and \n",
        "# 30 epochs\n",
        "model = RNNVanilla(vocabulary_size, hidden_dim=100)\n",
        "losses = train_with_sgd(model, XTrain_half[:100], YTrain_half[:100], nepoch=30, evaluate_loss_after=1)"
      ],
      "execution_count": 259,
      "outputs": [
        {
          "output_type": "stream",
          "text": [
            "2019-10-30 03:19:11: Loss after num_examples_seen=0 epoch=0: 8.987116\n",
            "2019-10-30 03:19:18: Loss after num_examples_seen=100 epoch=1: 8.980293\n",
            "2019-10-30 03:19:25: Loss after num_examples_seen=200 epoch=2: 8.972622\n",
            "2019-10-30 03:19:33: Loss after num_examples_seen=300 epoch=3: 8.962758\n",
            "2019-10-30 03:19:40: Loss after num_examples_seen=400 epoch=4: 8.946729\n",
            "2019-10-30 03:19:47: Loss after num_examples_seen=500 epoch=5: 7.951856\n",
            "2019-10-30 03:19:54: Loss after num_examples_seen=600 epoch=6: 6.664597\n",
            "2019-10-30 03:20:00: Loss after num_examples_seen=700 epoch=7: 6.217599\n",
            "2019-10-30 03:20:07: Loss after num_examples_seen=800 epoch=8: 5.957195\n",
            "2019-10-30 03:20:14: Loss after num_examples_seen=900 epoch=9: 5.778880\n",
            "2019-10-30 03:20:21: Loss after num_examples_seen=1000 epoch=10: 5.646273\n",
            "2019-10-30 03:20:28: Loss after num_examples_seen=1100 epoch=11: 5.543695\n",
            "2019-10-30 03:20:34: Loss after num_examples_seen=1200 epoch=12: 5.461293\n",
            "2019-10-30 03:20:41: Loss after num_examples_seen=1300 epoch=13: 5.392851\n",
            "2019-10-30 03:20:48: Loss after num_examples_seen=1400 epoch=14: 5.334859\n",
            "2019-10-30 03:20:54: Loss after num_examples_seen=1500 epoch=15: 5.285190\n",
            "2019-10-30 03:21:00: Loss after num_examples_seen=1600 epoch=16: 5.242233\n",
            "2019-10-30 03:21:06: Loss after num_examples_seen=1700 epoch=17: 5.204631\n",
            "2019-10-30 03:21:12: Loss after num_examples_seen=1800 epoch=18: 5.171263\n",
            "2019-10-30 03:21:18: Loss after num_examples_seen=1900 epoch=19: 5.141245\n",
            "2019-10-30 03:21:24: Loss after num_examples_seen=2000 epoch=20: 5.113875\n",
            "2019-10-30 03:21:29: Loss after num_examples_seen=2100 epoch=21: 5.088471\n",
            "2019-10-30 03:21:36: Loss after num_examples_seen=2200 epoch=22: 5.064208\n",
            "2019-10-30 03:21:42: Loss after num_examples_seen=2300 epoch=23: 5.040373\n",
            "2019-10-30 03:21:49: Loss after num_examples_seen=2400 epoch=24: 5.016940\n",
            "2019-10-30 03:21:56: Loss after num_examples_seen=2500 epoch=25: 4.994532\n",
            "2019-10-30 03:22:02: Loss after num_examples_seen=2600 epoch=26: 4.973730\n",
            "2019-10-30 03:22:09: Loss after num_examples_seen=2700 epoch=27: 4.954018\n",
            "2019-10-30 03:22:16: Loss after num_examples_seen=2800 epoch=28: 4.933887\n",
            "2019-10-30 03:22:23: Loss after num_examples_seen=2900 epoch=29: 4.912587\n"
          ],
          "name": "stdout"
        }
      ]
    },
    {
      "cell_type": "code",
      "metadata": {
        "id": "zrTh6YvI2JLF",
        "colab_type": "code",
        "colab": {}
      },
      "source": [
        ""
      ],
      "execution_count": 0,
      "outputs": []
    },
    {
      "cell_type": "code",
      "metadata": {
        "colab_type": "code",
        "outputId": "7c036406-8451-4b6d-d1b9-b06007be92b2",
        "id": "2tJRmKPe2Jcb",
        "colab": {
          "base_uri": "https://localhost:8080/",
          "height": 377
        }
      },
      "source": [
        "model_num = 0\n",
        "generate_sentences_with_model(model, num_sentences, senten_min_length, model_num)"
      ],
      "execution_count": 267,
      "outputs": [
        {
          "output_type": "stream",
          "text": [
            "Sentence # 1 of length 8\n",
            "dropped ! could . movement descending their as\n",
            "Sentence # 2 of length 7\n",
            "in tempest , it have of that\n",
            "Sentence # 3 of length 7\n",
            ", , . of a horizontal to\n",
            "Sentence # 4 of length 7\n",
            "it feet to of only balloon could\n",
            "Sentence # 5 of length 12\n",
            "the ” of the their is noise from dashing was low zones\n",
            "Sentence # 6 of length 11\n",
            "accelerated were while traversed alone every rate a taken to a\n",
            "Sentence # 7 of length 14\n",
            "language we ” the , sensible vast while balloon year changed . in the\n",
            "Sentence # 8 of length 7\n",
            "planted diminished the solidity did and equator\n",
            "Sentence # 9 of length 15\n",
            "suspecting was discovered their hours may which less thousand taken hauling hours was day call\n",
            "Sentence # 10 of length 14\n",
            "were is the only miles lofty some could ; beneath the waves of the\n"
          ],
          "name": "stdout"
        }
      ]
    },
    {
      "cell_type": "code",
      "metadata": {
        "scrolled": true,
        "colab_type": "code",
        "outputId": "18ad85cc-a00c-4909-834d-bb5c983be6d3",
        "id": "BsnUlbAMoBMk",
        "colab": {
          "base_uri": "https://localhost:8080/",
          "height": 527
        }
      },
      "source": [
        "# Print losses for final trained model\n",
        "for loss in losses:\n",
        "    print(\"Losses for final trained model: \" + str(loss))"
      ],
      "execution_count": 260,
      "outputs": [
        {
          "output_type": "stream",
          "text": [
            "Losses for final trained model: (0, 8.987115686118328)\n",
            "Losses for final trained model: (100, 8.980293262135893)\n",
            "Losses for final trained model: (200, 8.972622141603473)\n",
            "Losses for final trained model: (300, 8.962758142989374)\n",
            "Losses for final trained model: (400, 8.946729329272799)\n",
            "Losses for final trained model: (500, 7.951855843574217)\n",
            "Losses for final trained model: (600, 6.664596967785795)\n",
            "Losses for final trained model: (700, 6.2175994731360325)\n",
            "Losses for final trained model: (800, 5.957195060951127)\n",
            "Losses for final trained model: (900, 5.778879960268397)\n",
            "Losses for final trained model: (1000, 5.646273492651651)\n",
            "Losses for final trained model: (1100, 5.543694542874483)\n",
            "Losses for final trained model: (1200, 5.461293285868861)\n",
            "Losses for final trained model: (1300, 5.392850711713368)\n",
            "Losses for final trained model: (1400, 5.334859252838354)\n",
            "Losses for final trained model: (1500, 5.28519027953983)\n",
            "Losses for final trained model: (1600, 5.242233242099906)\n",
            "Losses for final trained model: (1700, 5.2046311539743515)\n",
            "Losses for final trained model: (1800, 5.171263076705106)\n",
            "Losses for final trained model: (1900, 5.141244504629941)\n",
            "Losses for final trained model: (2000, 5.113874514084146)\n",
            "Losses for final trained model: (2100, 5.088470662973693)\n",
            "Losses for final trained model: (2200, 5.064208264092143)\n",
            "Losses for final trained model: (2300, 5.040373038490393)\n",
            "Losses for final trained model: (2400, 5.016939542472966)\n",
            "Losses for final trained model: (2500, 4.994532084353671)\n",
            "Losses for final trained model: (2600, 4.973729910970518)\n",
            "Losses for final trained model: (2700, 4.954018075329183)\n",
            "Losses for final trained model: (2800, 4.933887228802783)\n",
            "Losses for final trained model: (2900, 4.912586670996985)\n"
          ],
          "name": "stdout"
        }
      ]
    },
    {
      "cell_type": "code",
      "metadata": {
        "colab_type": "code",
        "outputId": "e8055a90-a568-4729-ec7e-9727a3cb21ec",
        "id": "HJ59i031oFij",
        "colab": {
          "base_uri": "https://localhost:8080/",
          "height": 295
        }
      },
      "source": [
        "# Generate loss vs epoch plot from final trained model\n",
        "generate_loss_epoch_plt(losses)"
      ],
      "execution_count": 261,
      "outputs": [
        {
          "output_type": "display_data",
          "data": {
            "image/png": "[encoded data removed]",
            "text/plain": [
              "<Figure size 432x288 with 1 Axes>"
            ]
          },
          "metadata": {
            "tags": []
          }
        }
      ]
    }
  ]
}